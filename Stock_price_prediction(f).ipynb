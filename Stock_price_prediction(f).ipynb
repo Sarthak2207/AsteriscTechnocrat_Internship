{
  "cells": [
    {
      "cell_type": "code",
      "execution_count": null,
      "metadata": {
        "id": "ewrijhBl2y8R"
      },
      "outputs": [],
      "source": [
        "import numpy as np\n",
        "import pandas as pd\n",
        "import matplotlib.pyplot as plt"
      ]
    },
    {
      "cell_type": "code",
      "execution_count": null,
      "metadata": {
        "id": "_-WxUYI73Dgb"
      },
      "outputs": [],
      "source": [
        "df=pd.read_csv('INR=X.csv')"
      ]
    },
    {
      "cell_type": "code",
      "execution_count": null,
      "metadata": {
        "colab": {
          "base_uri": "https://localhost:8080/",
          "height": 250
        },
        "id": "1PO_918N3jwg",
        "outputId": "8448b8d7-838b-4c9a-8919-2bed78016a0e"
      },
      "outputs": [
        {
          "output_type": "execute_result",
          "data": {
            "text/plain": [
              "         Date       Open       High        Low      Close  Adj Close  Volume\n",
              "0  2020-01-27  71.320000  71.635002  71.320000  71.324997  71.324997       0\n",
              "1  2020-01-28  71.654999  71.654999  71.178001  71.440002  71.440002       0\n",
              "2  2020-01-29  71.230103  71.425003  71.168503  71.230400  71.230400       0\n",
              "3  2020-01-30  71.300003  71.711998  71.300003  71.300003  71.300003       0\n",
              "4  2020-01-31  71.639999  71.639999  71.277496  71.639999  71.639999       0"
            ],
            "text/html": [
              "\n",
              "\n",
              "  <div id=\"df-7709d7cc-9a46-4e4b-85bc-6a639181dfb1\">\n",
              "    <div class=\"colab-df-container\">\n",
              "      <div>\n",
              "<style scoped>\n",
              "    .dataframe tbody tr th:only-of-type {\n",
              "        vertical-align: middle;\n",
              "    }\n",
              "\n",
              "    .dataframe tbody tr th {\n",
              "        vertical-align: top;\n",
              "    }\n",
              "\n",
              "    .dataframe thead th {\n",
              "        text-align: right;\n",
              "    }\n",
              "</style>\n",
              "<table border=\"1\" class=\"dataframe\">\n",
              "  <thead>\n",
              "    <tr style=\"text-align: right;\">\n",
              "      <th></th>\n",
              "      <th>Date</th>\n",
              "      <th>Open</th>\n",
              "      <th>High</th>\n",
              "      <th>Low</th>\n",
              "      <th>Close</th>\n",
              "      <th>Adj Close</th>\n",
              "      <th>Volume</th>\n",
              "    </tr>\n",
              "  </thead>\n",
              "  <tbody>\n",
              "    <tr>\n",
              "      <th>0</th>\n",
              "      <td>2020-01-27</td>\n",
              "      <td>71.320000</td>\n",
              "      <td>71.635002</td>\n",
              "      <td>71.320000</td>\n",
              "      <td>71.324997</td>\n",
              "      <td>71.324997</td>\n",
              "      <td>0</td>\n",
              "    </tr>\n",
              "    <tr>\n",
              "      <th>1</th>\n",
              "      <td>2020-01-28</td>\n",
              "      <td>71.654999</td>\n",
              "      <td>71.654999</td>\n",
              "      <td>71.178001</td>\n",
              "      <td>71.440002</td>\n",
              "      <td>71.440002</td>\n",
              "      <td>0</td>\n",
              "    </tr>\n",
              "    <tr>\n",
              "      <th>2</th>\n",
              "      <td>2020-01-29</td>\n",
              "      <td>71.230103</td>\n",
              "      <td>71.425003</td>\n",
              "      <td>71.168503</td>\n",
              "      <td>71.230400</td>\n",
              "      <td>71.230400</td>\n",
              "      <td>0</td>\n",
              "    </tr>\n",
              "    <tr>\n",
              "      <th>3</th>\n",
              "      <td>2020-01-30</td>\n",
              "      <td>71.300003</td>\n",
              "      <td>71.711998</td>\n",
              "      <td>71.300003</td>\n",
              "      <td>71.300003</td>\n",
              "      <td>71.300003</td>\n",
              "      <td>0</td>\n",
              "    </tr>\n",
              "    <tr>\n",
              "      <th>4</th>\n",
              "      <td>2020-01-31</td>\n",
              "      <td>71.639999</td>\n",
              "      <td>71.639999</td>\n",
              "      <td>71.277496</td>\n",
              "      <td>71.639999</td>\n",
              "      <td>71.639999</td>\n",
              "      <td>0</td>\n",
              "    </tr>\n",
              "  </tbody>\n",
              "</table>\n",
              "</div>\n",
              "      <button class=\"colab-df-convert\" onclick=\"convertToInteractive('df-7709d7cc-9a46-4e4b-85bc-6a639181dfb1')\"\n",
              "              title=\"Convert this dataframe to an interactive table.\"\n",
              "              style=\"display:none;\">\n",
              "\n",
              "  <svg xmlns=\"http://www.w3.org/2000/svg\" height=\"24px\"viewBox=\"0 0 24 24\"\n",
              "       width=\"24px\">\n",
              "    <path d=\"M0 0h24v24H0V0z\" fill=\"none\"/>\n",
              "    <path d=\"M18.56 5.44l.94 2.06.94-2.06 2.06-.94-2.06-.94-.94-2.06-.94 2.06-2.06.94zm-11 1L8.5 8.5l.94-2.06 2.06-.94-2.06-.94L8.5 2.5l-.94 2.06-2.06.94zm10 10l.94 2.06.94-2.06 2.06-.94-2.06-.94-.94-2.06-.94 2.06-2.06.94z\"/><path d=\"M17.41 7.96l-1.37-1.37c-.4-.4-.92-.59-1.43-.59-.52 0-1.04.2-1.43.59L10.3 9.45l-7.72 7.72c-.78.78-.78 2.05 0 2.83L4 21.41c.39.39.9.59 1.41.59.51 0 1.02-.2 1.41-.59l7.78-7.78 2.81-2.81c.8-.78.8-2.07 0-2.86zM5.41 20L4 18.59l7.72-7.72 1.47 1.35L5.41 20z\"/>\n",
              "  </svg>\n",
              "      </button>\n",
              "\n",
              "\n",
              "\n",
              "    <div id=\"df-e2817be5-bab8-4ca5-a13d-e4736b2b9130\">\n",
              "      <button class=\"colab-df-quickchart\" onclick=\"quickchart('df-e2817be5-bab8-4ca5-a13d-e4736b2b9130')\"\n",
              "              title=\"Suggest charts.\"\n",
              "              style=\"display:none;\">\n",
              "\n",
              "<svg xmlns=\"http://www.w3.org/2000/svg\" height=\"24px\"viewBox=\"0 0 24 24\"\n",
              "     width=\"24px\">\n",
              "    <g>\n",
              "        <path d=\"M19 3H5c-1.1 0-2 .9-2 2v14c0 1.1.9 2 2 2h14c1.1 0 2-.9 2-2V5c0-1.1-.9-2-2-2zM9 17H7v-7h2v7zm4 0h-2V7h2v10zm4 0h-2v-4h2v4z\"/>\n",
              "    </g>\n",
              "</svg>\n",
              "      </button>\n",
              "    </div>\n",
              "\n",
              "<style>\n",
              "  .colab-df-quickchart {\n",
              "    background-color: #E8F0FE;\n",
              "    border: none;\n",
              "    border-radius: 50%;\n",
              "    cursor: pointer;\n",
              "    display: none;\n",
              "    fill: #1967D2;\n",
              "    height: 32px;\n",
              "    padding: 0 0 0 0;\n",
              "    width: 32px;\n",
              "  }\n",
              "\n",
              "  .colab-df-quickchart:hover {\n",
              "    background-color: #E2EBFA;\n",
              "    box-shadow: 0px 1px 2px rgba(60, 64, 67, 0.3), 0px 1px 3px 1px rgba(60, 64, 67, 0.15);\n",
              "    fill: #174EA6;\n",
              "  }\n",
              "\n",
              "  [theme=dark] .colab-df-quickchart {\n",
              "    background-color: #3B4455;\n",
              "    fill: #D2E3FC;\n",
              "  }\n",
              "\n",
              "  [theme=dark] .colab-df-quickchart:hover {\n",
              "    background-color: #434B5C;\n",
              "    box-shadow: 0px 1px 3px 1px rgba(0, 0, 0, 0.15);\n",
              "    filter: drop-shadow(0px 1px 2px rgba(0, 0, 0, 0.3));\n",
              "    fill: #FFFFFF;\n",
              "  }\n",
              "</style>\n",
              "\n",
              "    <script>\n",
              "      async function quickchart(key) {\n",
              "        const containerElement = document.querySelector('#' + key);\n",
              "        const charts = await google.colab.kernel.invokeFunction(\n",
              "            'suggestCharts', [key], {});\n",
              "      }\n",
              "    </script>\n",
              "\n",
              "      <script>\n",
              "\n",
              "function displayQuickchartButton(domScope) {\n",
              "  let quickchartButtonEl =\n",
              "    domScope.querySelector('#df-e2817be5-bab8-4ca5-a13d-e4736b2b9130 button.colab-df-quickchart');\n",
              "  quickchartButtonEl.style.display =\n",
              "    google.colab.kernel.accessAllowed ? 'block' : 'none';\n",
              "}\n",
              "\n",
              "        displayQuickchartButton(document);\n",
              "      </script>\n",
              "      <style>\n",
              "    .colab-df-container {\n",
              "      display:flex;\n",
              "      flex-wrap:wrap;\n",
              "      gap: 12px;\n",
              "    }\n",
              "\n",
              "    .colab-df-convert {\n",
              "      background-color: #E8F0FE;\n",
              "      border: none;\n",
              "      border-radius: 50%;\n",
              "      cursor: pointer;\n",
              "      display: none;\n",
              "      fill: #1967D2;\n",
              "      height: 32px;\n",
              "      padding: 0 0 0 0;\n",
              "      width: 32px;\n",
              "    }\n",
              "\n",
              "    .colab-df-convert:hover {\n",
              "      background-color: #E2EBFA;\n",
              "      box-shadow: 0px 1px 2px rgba(60, 64, 67, 0.3), 0px 1px 3px 1px rgba(60, 64, 67, 0.15);\n",
              "      fill: #174EA6;\n",
              "    }\n",
              "\n",
              "    [theme=dark] .colab-df-convert {\n",
              "      background-color: #3B4455;\n",
              "      fill: #D2E3FC;\n",
              "    }\n",
              "\n",
              "    [theme=dark] .colab-df-convert:hover {\n",
              "      background-color: #434B5C;\n",
              "      box-shadow: 0px 1px 3px 1px rgba(0, 0, 0, 0.15);\n",
              "      filter: drop-shadow(0px 1px 2px rgba(0, 0, 0, 0.3));\n",
              "      fill: #FFFFFF;\n",
              "    }\n",
              "  </style>\n",
              "\n",
              "      <script>\n",
              "        const buttonEl =\n",
              "          document.querySelector('#df-7709d7cc-9a46-4e4b-85bc-6a639181dfb1 button.colab-df-convert');\n",
              "        buttonEl.style.display =\n",
              "          google.colab.kernel.accessAllowed ? 'block' : 'none';\n",
              "\n",
              "        async function convertToInteractive(key) {\n",
              "          const element = document.querySelector('#df-7709d7cc-9a46-4e4b-85bc-6a639181dfb1');\n",
              "          const dataTable =\n",
              "            await google.colab.kernel.invokeFunction('convertToInteractive',\n",
              "                                                     [key], {});\n",
              "          if (!dataTable) return;\n",
              "\n",
              "          const docLinkHtml = 'Like what you see? Visit the ' +\n",
              "            '<a target=\"_blank\" href=https://colab.research.google.com/notebooks/data_table.ipynb>data table notebook</a>'\n",
              "            + ' to learn more about interactive tables.';\n",
              "          element.innerHTML = '';\n",
              "          dataTable['output_type'] = 'display_data';\n",
              "          await google.colab.output.renderOutput(dataTable, element);\n",
              "          const docLink = document.createElement('div');\n",
              "          docLink.innerHTML = docLinkHtml;\n",
              "          element.appendChild(docLink);\n",
              "        }\n",
              "      </script>\n",
              "    </div>\n",
              "  </div>\n"
            ]
          },
          "metadata": {},
          "execution_count": 3
        }
      ],
      "source": [
        "df.head()"
      ]
    },
    {
      "cell_type": "code",
      "execution_count": null,
      "metadata": {
        "colab": {
          "base_uri": "https://localhost:8080/",
          "height": 250
        },
        "id": "Ca9wQfWB32LY",
        "outputId": "6594d0e6-37a0-454a-ad58-6fccebe78191"
      },
      "outputs": [
        {
          "output_type": "execute_result",
          "data": {
            "text/plain": [
              "           Date       Open       High        Low      Close  Adj Close  Volume\n",
              "257  2021-01-20  73.192001  73.192299  72.899300  73.191902  73.191902       0\n",
              "258  2021-01-21  72.907898  73.045303  72.883003  72.910896  72.910896       0\n",
              "259  2021-01-22  72.954903  73.237503  72.929001  72.954903  72.954903       0\n",
              "260  2021-01-25  72.995903  73.220001  72.877998  72.995903  72.995903       0\n",
              "261  2021-01-26  72.970001  73.222000  72.774498  72.970001  72.970001       0"
            ],
            "text/html": [
              "\n",
              "\n",
              "  <div id=\"df-a582d9a4-fea5-4c36-8d52-f8c99d54494a\">\n",
              "    <div class=\"colab-df-container\">\n",
              "      <div>\n",
              "<style scoped>\n",
              "    .dataframe tbody tr th:only-of-type {\n",
              "        vertical-align: middle;\n",
              "    }\n",
              "\n",
              "    .dataframe tbody tr th {\n",
              "        vertical-align: top;\n",
              "    }\n",
              "\n",
              "    .dataframe thead th {\n",
              "        text-align: right;\n",
              "    }\n",
              "</style>\n",
              "<table border=\"1\" class=\"dataframe\">\n",
              "  <thead>\n",
              "    <tr style=\"text-align: right;\">\n",
              "      <th></th>\n",
              "      <th>Date</th>\n",
              "      <th>Open</th>\n",
              "      <th>High</th>\n",
              "      <th>Low</th>\n",
              "      <th>Close</th>\n",
              "      <th>Adj Close</th>\n",
              "      <th>Volume</th>\n",
              "    </tr>\n",
              "  </thead>\n",
              "  <tbody>\n",
              "    <tr>\n",
              "      <th>257</th>\n",
              "      <td>2021-01-20</td>\n",
              "      <td>73.192001</td>\n",
              "      <td>73.192299</td>\n",
              "      <td>72.899300</td>\n",
              "      <td>73.191902</td>\n",
              "      <td>73.191902</td>\n",
              "      <td>0</td>\n",
              "    </tr>\n",
              "    <tr>\n",
              "      <th>258</th>\n",
              "      <td>2021-01-21</td>\n",
              "      <td>72.907898</td>\n",
              "      <td>73.045303</td>\n",
              "      <td>72.883003</td>\n",
              "      <td>72.910896</td>\n",
              "      <td>72.910896</td>\n",
              "      <td>0</td>\n",
              "    </tr>\n",
              "    <tr>\n",
              "      <th>259</th>\n",
              "      <td>2021-01-22</td>\n",
              "      <td>72.954903</td>\n",
              "      <td>73.237503</td>\n",
              "      <td>72.929001</td>\n",
              "      <td>72.954903</td>\n",
              "      <td>72.954903</td>\n",
              "      <td>0</td>\n",
              "    </tr>\n",
              "    <tr>\n",
              "      <th>260</th>\n",
              "      <td>2021-01-25</td>\n",
              "      <td>72.995903</td>\n",
              "      <td>73.220001</td>\n",
              "      <td>72.877998</td>\n",
              "      <td>72.995903</td>\n",
              "      <td>72.995903</td>\n",
              "      <td>0</td>\n",
              "    </tr>\n",
              "    <tr>\n",
              "      <th>261</th>\n",
              "      <td>2021-01-26</td>\n",
              "      <td>72.970001</td>\n",
              "      <td>73.222000</td>\n",
              "      <td>72.774498</td>\n",
              "      <td>72.970001</td>\n",
              "      <td>72.970001</td>\n",
              "      <td>0</td>\n",
              "    </tr>\n",
              "  </tbody>\n",
              "</table>\n",
              "</div>\n",
              "      <button class=\"colab-df-convert\" onclick=\"convertToInteractive('df-a582d9a4-fea5-4c36-8d52-f8c99d54494a')\"\n",
              "              title=\"Convert this dataframe to an interactive table.\"\n",
              "              style=\"display:none;\">\n",
              "\n",
              "  <svg xmlns=\"http://www.w3.org/2000/svg\" height=\"24px\"viewBox=\"0 0 24 24\"\n",
              "       width=\"24px\">\n",
              "    <path d=\"M0 0h24v24H0V0z\" fill=\"none\"/>\n",
              "    <path d=\"M18.56 5.44l.94 2.06.94-2.06 2.06-.94-2.06-.94-.94-2.06-.94 2.06-2.06.94zm-11 1L8.5 8.5l.94-2.06 2.06-.94-2.06-.94L8.5 2.5l-.94 2.06-2.06.94zm10 10l.94 2.06.94-2.06 2.06-.94-2.06-.94-.94-2.06-.94 2.06-2.06.94z\"/><path d=\"M17.41 7.96l-1.37-1.37c-.4-.4-.92-.59-1.43-.59-.52 0-1.04.2-1.43.59L10.3 9.45l-7.72 7.72c-.78.78-.78 2.05 0 2.83L4 21.41c.39.39.9.59 1.41.59.51 0 1.02-.2 1.41-.59l7.78-7.78 2.81-2.81c.8-.78.8-2.07 0-2.86zM5.41 20L4 18.59l7.72-7.72 1.47 1.35L5.41 20z\"/>\n",
              "  </svg>\n",
              "      </button>\n",
              "\n",
              "\n",
              "\n",
              "    <div id=\"df-72e429c0-f23e-4b1b-bac0-a1def746589a\">\n",
              "      <button class=\"colab-df-quickchart\" onclick=\"quickchart('df-72e429c0-f23e-4b1b-bac0-a1def746589a')\"\n",
              "              title=\"Suggest charts.\"\n",
              "              style=\"display:none;\">\n",
              "\n",
              "<svg xmlns=\"http://www.w3.org/2000/svg\" height=\"24px\"viewBox=\"0 0 24 24\"\n",
              "     width=\"24px\">\n",
              "    <g>\n",
              "        <path d=\"M19 3H5c-1.1 0-2 .9-2 2v14c0 1.1.9 2 2 2h14c1.1 0 2-.9 2-2V5c0-1.1-.9-2-2-2zM9 17H7v-7h2v7zm4 0h-2V7h2v10zm4 0h-2v-4h2v4z\"/>\n",
              "    </g>\n",
              "</svg>\n",
              "      </button>\n",
              "    </div>\n",
              "\n",
              "<style>\n",
              "  .colab-df-quickchart {\n",
              "    background-color: #E8F0FE;\n",
              "    border: none;\n",
              "    border-radius: 50%;\n",
              "    cursor: pointer;\n",
              "    display: none;\n",
              "    fill: #1967D2;\n",
              "    height: 32px;\n",
              "    padding: 0 0 0 0;\n",
              "    width: 32px;\n",
              "  }\n",
              "\n",
              "  .colab-df-quickchart:hover {\n",
              "    background-color: #E2EBFA;\n",
              "    box-shadow: 0px 1px 2px rgba(60, 64, 67, 0.3), 0px 1px 3px 1px rgba(60, 64, 67, 0.15);\n",
              "    fill: #174EA6;\n",
              "  }\n",
              "\n",
              "  [theme=dark] .colab-df-quickchart {\n",
              "    background-color: #3B4455;\n",
              "    fill: #D2E3FC;\n",
              "  }\n",
              "\n",
              "  [theme=dark] .colab-df-quickchart:hover {\n",
              "    background-color: #434B5C;\n",
              "    box-shadow: 0px 1px 3px 1px rgba(0, 0, 0, 0.15);\n",
              "    filter: drop-shadow(0px 1px 2px rgba(0, 0, 0, 0.3));\n",
              "    fill: #FFFFFF;\n",
              "  }\n",
              "</style>\n",
              "\n",
              "    <script>\n",
              "      async function quickchart(key) {\n",
              "        const containerElement = document.querySelector('#' + key);\n",
              "        const charts = await google.colab.kernel.invokeFunction(\n",
              "            'suggestCharts', [key], {});\n",
              "      }\n",
              "    </script>\n",
              "\n",
              "      <script>\n",
              "\n",
              "function displayQuickchartButton(domScope) {\n",
              "  let quickchartButtonEl =\n",
              "    domScope.querySelector('#df-72e429c0-f23e-4b1b-bac0-a1def746589a button.colab-df-quickchart');\n",
              "  quickchartButtonEl.style.display =\n",
              "    google.colab.kernel.accessAllowed ? 'block' : 'none';\n",
              "}\n",
              "\n",
              "        displayQuickchartButton(document);\n",
              "      </script>\n",
              "      <style>\n",
              "    .colab-df-container {\n",
              "      display:flex;\n",
              "      flex-wrap:wrap;\n",
              "      gap: 12px;\n",
              "    }\n",
              "\n",
              "    .colab-df-convert {\n",
              "      background-color: #E8F0FE;\n",
              "      border: none;\n",
              "      border-radius: 50%;\n",
              "      cursor: pointer;\n",
              "      display: none;\n",
              "      fill: #1967D2;\n",
              "      height: 32px;\n",
              "      padding: 0 0 0 0;\n",
              "      width: 32px;\n",
              "    }\n",
              "\n",
              "    .colab-df-convert:hover {\n",
              "      background-color: #E2EBFA;\n",
              "      box-shadow: 0px 1px 2px rgba(60, 64, 67, 0.3), 0px 1px 3px 1px rgba(60, 64, 67, 0.15);\n",
              "      fill: #174EA6;\n",
              "    }\n",
              "\n",
              "    [theme=dark] .colab-df-convert {\n",
              "      background-color: #3B4455;\n",
              "      fill: #D2E3FC;\n",
              "    }\n",
              "\n",
              "    [theme=dark] .colab-df-convert:hover {\n",
              "      background-color: #434B5C;\n",
              "      box-shadow: 0px 1px 3px 1px rgba(0, 0, 0, 0.15);\n",
              "      filter: drop-shadow(0px 1px 2px rgba(0, 0, 0, 0.3));\n",
              "      fill: #FFFFFF;\n",
              "    }\n",
              "  </style>\n",
              "\n",
              "      <script>\n",
              "        const buttonEl =\n",
              "          document.querySelector('#df-a582d9a4-fea5-4c36-8d52-f8c99d54494a button.colab-df-convert');\n",
              "        buttonEl.style.display =\n",
              "          google.colab.kernel.accessAllowed ? 'block' : 'none';\n",
              "\n",
              "        async function convertToInteractive(key) {\n",
              "          const element = document.querySelector('#df-a582d9a4-fea5-4c36-8d52-f8c99d54494a');\n",
              "          const dataTable =\n",
              "            await google.colab.kernel.invokeFunction('convertToInteractive',\n",
              "                                                     [key], {});\n",
              "          if (!dataTable) return;\n",
              "\n",
              "          const docLinkHtml = 'Like what you see? Visit the ' +\n",
              "            '<a target=\"_blank\" href=https://colab.research.google.com/notebooks/data_table.ipynb>data table notebook</a>'\n",
              "            + ' to learn more about interactive tables.';\n",
              "          element.innerHTML = '';\n",
              "          dataTable['output_type'] = 'display_data';\n",
              "          await google.colab.output.renderOutput(dataTable, element);\n",
              "          const docLink = document.createElement('div');\n",
              "          docLink.innerHTML = docLinkHtml;\n",
              "          element.appendChild(docLink);\n",
              "        }\n",
              "      </script>\n",
              "    </div>\n",
              "  </div>\n"
            ]
          },
          "metadata": {},
          "execution_count": 4
        }
      ],
      "source": [
        "df.tail()"
      ]
    },
    {
      "cell_type": "code",
      "execution_count": null,
      "metadata": {
        "id": "XEZDOTUW3rCi"
      },
      "outputs": [],
      "source": [
        "df1=df.reset_index()['Close']"
      ]
    },
    {
      "cell_type": "code",
      "execution_count": null,
      "metadata": {
        "colab": {
          "base_uri": "https://localhost:8080/"
        },
        "id": "aTMNbM9Q4ISC",
        "outputId": "305b66a0-fa7b-4cdd-9fb1-6551249f3dfd"
      },
      "outputs": [
        {
          "output_type": "execute_result",
          "data": {
            "text/plain": [
              "(262,)"
            ]
          },
          "metadata": {},
          "execution_count": 6
        }
      ],
      "source": [
        "df1.shape"
      ]
    },
    {
      "cell_type": "code",
      "execution_count": null,
      "metadata": {
        "colab": {
          "base_uri": "https://localhost:8080/",
          "height": 447
        },
        "id": "EgnRrDL04YrT",
        "outputId": "76429d0f-5cdd-4947-d181-20b5f7383a35"
      },
      "outputs": [
        {
          "output_type": "execute_result",
          "data": {
            "text/plain": [
              "[<matplotlib.lines.Line2D at 0x7bb44cd21f60>]"
            ]
          },
          "metadata": {},
          "execution_count": 7
        },
        {
          "output_type": "display_data",
          "data": {
            "text/plain": [
              "<Figure size 640x480 with 1 Axes>"
            ],
            "image/png": "[encoded data removed]"
          },
          "metadata": {}
        }
      ],
      "source": [
        "plt.plot(df1)"
      ]
    },
    {
      "cell_type": "code",
      "source": [
        "import seaborn as sns"
      ],
      "metadata": {
        "id": "VDlIgxdTgsCu"
      },
      "execution_count": null,
      "outputs": []
    },
    {
      "cell_type": "code",
      "source": [
        "plt.figure(figsize=(10,6))\n",
        "sns.histplot(df['Close'],kde=True)\n",
        "plt.xlabel('Stock price')\n",
        "plt.ylabel('Frequency')\n",
        "plt.title('Distribution of stock prices')\n",
        "plt.show()"
      ],
      "metadata": {
        "colab": {
          "base_uri": "https://localhost:8080/",
          "height": 426
        },
        "id": "eFLicXcsghsR",
        "outputId": "84b4c053-a39a-4cc6-8e34-754084dc3a79"
      },
      "execution_count": null,
      "outputs": [
        {
          "output_type": "display_data",
          "data": {
            "text/plain": [
              "<Figure size 1000x600 with 1 Axes>"
            ],
            "image/png": "[encoded data removed]"
          },
          "metadata": {}
        }
      ]
    },
    {
      "cell_type": "code",
      "execution_count": null,
      "metadata": {
        "id": "yqG2m_Yf4Yty"
      },
      "outputs": [],
      "source": [
        "from sklearn.preprocessing import MinMaxScaler\n",
        "scaler=MinMaxScaler(feature_range=(0,1))\n",
        "df1=scaler.fit_transform(np.array(df1).reshape(-1,1))"
      ]
    },
    {
      "cell_type": "code",
      "execution_count": null,
      "metadata": {
        "colab": {
          "base_uri": "https://localhost:8080/"
        },
        "id": "MINnySth5mqS",
        "outputId": "0ad2fe62-c732-4684-fca7-917413dd3975"
      },
      "outputs": [
        {
          "output_type": "execute_result",
          "data": {
            "text/plain": [
              "array([[0.03477572],\n",
              "       [0.05255083],\n",
              "       [0.02015486],\n",
              "       [0.03091266],\n",
              "       [0.08346226],\n",
              "       [0.06128282],\n",
              "       [0.0330918 ],\n",
              "       [0.        ],\n",
              "       [0.01236507],\n",
              "       [0.05718746],\n",
              "       [0.06422023],\n",
              "       [0.02782086],\n",
              "       [0.02709443],\n",
              "       [0.03032549],\n",
              "       [0.02604373],\n",
              "       [0.06411173],\n",
              "       [0.03851606],\n",
              "       [0.07341559],\n",
              "       [0.11244216],\n",
              "       [0.15610552],\n",
              "       [0.12160815],\n",
              "       [0.14632175],\n",
              "       [0.11901156],\n",
              "       [0.08707895],\n",
              "       [0.12828466],\n",
              "       [0.16228805],\n",
              "       [0.26661491],\n",
              "       [0.34652308],\n",
              "       [0.45479198],\n",
              "       [0.42582753],\n",
              "       [0.44749631],\n",
              "       [0.51097357],\n",
              "       [0.47990773],\n",
              "       [0.56568823],\n",
              "       [0.64915049],\n",
              "       [0.43338487],\n",
              "       [0.62673876],\n",
              "       [0.45013896],\n",
              "       [0.60000043],\n",
              "       [0.62746503],\n",
              "       [0.69893379],\n",
              "       [0.83554827],\n",
              "       [0.95208688],\n",
              "       [0.73346175],\n",
              "       [0.56037123],\n",
              "       [0.67465172],\n",
              "       [0.66460629],\n",
              "       [0.65301355],\n",
              "       [1.        ],\n",
              "       [0.93353928],\n",
              "       [0.79289079],\n",
              "       [0.75191615],\n",
              "       [0.85935151],\n",
              "       [0.75100471],\n",
              "       [0.85780561],\n",
              "       [0.78307518],\n",
              "       [0.89799138],\n",
              "       [0.74667705],\n",
              "       [0.9447453 ],\n",
              "       [1.        ],\n",
              "       [0.84389464],\n",
              "       [0.94435844],\n",
              "       [0.90717128],\n",
              "       [0.81916574],\n",
              "       [0.82264318],\n",
              "       [0.79930454],\n",
              "       [0.78613639],\n",
              "       [0.82921118],\n",
              "       [0.64273566],\n",
              "       [0.71406516],\n",
              "       [0.69559546],\n",
              "       [0.73415742],\n",
              "       [0.78361645],\n",
              "       [0.78072634],\n",
              "       [0.76970672],\n",
              "       [0.68392622],\n",
              "       [0.80525477],\n",
              "       [0.70788263],\n",
              "       [0.66865559],\n",
              "       [0.67774369],\n",
              "       [0.72952095],\n",
              "       [0.69553302],\n",
              "       [0.75734165],\n",
              "       [0.72333842],\n",
              "       [0.69938185],\n",
              "       [0.75502341],\n",
              "       [0.77434335],\n",
              "       [0.72952095],\n",
              "       [0.77743392],\n",
              "       [0.75115912],\n",
              "       [0.68210195],\n",
              "       [0.71561106],\n",
              "       [0.61295282],\n",
              "       [0.68701679],\n",
              "       [0.67865512],\n",
              "       [0.68279763],\n",
              "       [0.69938185],\n",
              "       [0.68157722],\n",
              "       [0.73802172],\n",
              "       [0.81761969],\n",
              "       [0.75066499],\n",
              "       [0.75394088],\n",
              "       [0.85857794],\n",
              "       [0.84234982],\n",
              "       [0.81922695],\n",
              "       [0.79630578],\n",
              "       [0.72485372],\n",
              "       [0.6967239 ],\n",
              "       [0.75270502],\n",
              "       [0.68621385],\n",
              "       [0.69857768],\n",
              "       [0.71097335],\n",
              "       [0.71870179],\n",
              "       [0.67309175],\n",
              "       [0.55966026],\n",
              "       [0.55321467],\n",
              "       [0.5421326 ],\n",
              "       [0.62210213],\n",
              "       [0.59349363],\n",
              "       [0.65533179],\n",
              "       [0.62728002],\n",
              "       [0.67233349],\n",
              "       [0.69165342],\n",
              "       [0.62208682],\n",
              "       [0.62975282],\n",
              "       [0.58690909],\n",
              "       [0.60123629],\n",
              "       [0.56723305],\n",
              "       [0.57496149],\n",
              "       [0.57299812],\n",
              "       [0.56565763],\n",
              "       [0.60278219],\n",
              "       [0.61669193],\n",
              "       [0.57669256],\n",
              "       [0.60123629],\n",
              "       [0.59007756],\n",
              "       [0.65378712],\n",
              "       [0.64142206],\n",
              "       [0.5845754 ],\n",
              "       [0.5872958 ],\n",
              "       [0.60661573],\n",
              "       [0.61823783],\n",
              "       [0.58732656],\n",
              "       [0.5675584 ],\n",
              "       [0.60741882],\n",
              "       [0.58775932],\n",
              "       [0.60278219],\n",
              "       [0.5710972 ],\n",
              "       [0.59765036],\n",
              "       [0.60276689],\n",
              "       [0.59069549],\n",
              "       [0.51004683],\n",
              "       [0.51816074],\n",
              "       [0.485332  ],\n",
              "       [0.41336927],\n",
              "       [0.31349388],\n",
              "       [0.39721781],\n",
              "       [0.33539387],\n",
              "       [0.33207084],\n",
              "       [0.36289031],\n",
              "       [0.33853158],\n",
              "       [0.39412724],\n",
              "       [0.4152702 ],\n",
              "       [0.37867144],\n",
              "       [0.37516217],\n",
              "       [0.36763544],\n",
              "       [0.38871704],\n",
              "       [0.41731131],\n",
              "       [0.37877871],\n",
              "       [0.38386464],\n",
              "       [0.37632137],\n",
              "       [0.38327732],\n",
              "       [0.37140638],\n",
              "       [0.4139719 ],\n",
              "       [0.39913527],\n",
              "       [0.40174717],\n",
              "       [0.44435844],\n",
              "       [0.42426617],\n",
              "       [0.40262801],\n",
              "       [0.32720314],\n",
              "       [0.34349371],\n",
              "       [0.31040191],\n",
              "       [0.41962955],\n",
              "       [0.37751225],\n",
              "       [0.33701752],\n",
              "       [0.29595091],\n",
              "       [0.34788274],\n",
              "       [0.38949061],\n",
              "       [0.33944441],\n",
              "       [0.35100515],\n",
              "       [0.36225708],\n",
              "       [0.3825345 ],\n",
              "       [0.39374037],\n",
              "       [0.39896417],\n",
              "       [0.40494624],\n",
              "       [0.4208501 ],\n",
              "       [0.44026323],\n",
              "       [0.41808364],\n",
              "       [0.51622921],\n",
              "       [0.48902643],\n",
              "       [0.53330756],\n",
              "       [0.51882581],\n",
              "       [0.54955223],\n",
              "       [0.50695487],\n",
              "       [0.46677033],\n",
              "       [0.44510017],\n",
              "       [0.44098951],\n",
              "       [0.49174683],\n",
              "       [0.53632163],\n",
              "       [0.58191636],\n",
              "       [0.52360154],\n",
              "       [0.51284374],\n",
              "       [0.5223646 ],\n",
              "       [0.5131374 ],\n",
              "       [0.46361717],\n",
              "       [0.47332304],\n",
              "       [0.48607497],\n",
              "       [0.44216401],\n",
              "       [0.4142042 ],\n",
              "       [0.45576493],\n",
              "       [0.43908874],\n",
              "       [0.45211763],\n",
              "       [0.39489957],\n",
              "       [0.39607407],\n",
              "       [0.4273416 ],\n",
              "       [0.41581131],\n",
              "       [0.45131346],\n",
              "       [0.40593558],\n",
              "       [0.43817606],\n",
              "       [0.40598164],\n",
              "       [0.407728  ],\n",
              "       [0.42658457],\n",
              "       [0.41109817],\n",
              "       [0.38896464],\n",
              "       [0.37554888],\n",
              "       [0.38695537],\n",
              "       [0.4382232 ],\n",
              "       [0.48995333],\n",
              "       [0.423462  ],\n",
              "       [0.37987654],\n",
              "       [0.40015521],\n",
              "       [0.37788257],\n",
              "       [0.36377114],\n",
              "       [0.31437471],\n",
              "       [0.30745045],\n",
              "       [0.30788321],\n",
              "       [0.34312231],\n",
              "       [0.35159247],\n",
              "       [0.34930484],\n",
              "       [0.36259664],\n",
              "       [0.35137547],\n",
              "       [0.37302894],\n",
              "       [0.31916574],\n",
              "       [0.31992278],\n",
              "       [0.30720284],\n",
              "       [0.31823777],\n",
              "       [0.32282834],\n",
              "       [0.32332355],\n",
              "       [0.27989141],\n",
              "       [0.28669311],\n",
              "       [0.29303005],\n",
              "       [0.28902665]])"
            ]
          },
          "metadata": {},
          "execution_count": 11
        }
      ],
      "source": [
        "df1"
      ]
    },
    {
      "cell_type": "code",
      "execution_count": null,
      "metadata": {
        "colab": {
          "base_uri": "https://localhost:8080/"
        },
        "id": "vgJgoqpS4YxL",
        "outputId": "55b14296-8df0-480a-ed0e-b216fad37f42"
      },
      "outputs": [
        {
          "output_type": "execute_result",
          "data": {
            "text/plain": [
              "(262, 1)"
            ]
          },
          "metadata": {},
          "execution_count": 12
        }
      ],
      "source": [
        "df1.shape"
      ]
    },
    {
      "cell_type": "code",
      "source": [
        "training_size =int(len(df1)*0.60)\n",
        "test_size=len(df1)-training_size\n",
        "train_data,test_data=df1[0:training_size,:],df1[training_size:len(df1),:1]"
      ],
      "metadata": {
        "id": "Gtjp4evu3Kqt"
      },
      "execution_count": null,
      "outputs": []
    },
    {
      "cell_type": "code",
      "source": [
        "training_size,test_size"
      ],
      "metadata": {
        "colab": {
          "base_uri": "https://localhost:8080/"
        },
        "id": "EzTuFZ1Cf1Oc",
        "outputId": "aabb6796-1e06-4d90-a534-1e5e24bb7bb8"
      },
      "execution_count": null,
      "outputs": [
        {
          "output_type": "execute_result",
          "data": {
            "text/plain": [
              "(157, 105)"
            ]
          },
          "metadata": {},
          "execution_count": 18
        }
      ]
    },
    {
      "cell_type": "code",
      "source": [
        "import numpy\n",
        "def create_dataset(dataset,time_step=1):\n",
        "  dataX,dataY=[],[]\n",
        "  for i in range(len(dataset)-time_step-1):\n",
        "   a=dataset[i:(i+time_step),0]\n",
        "   dataX.append(a)\n",
        "   dataY.append(dataset[i+time_step,0])\n",
        "  return numpy.array(dataX),numpy.array(dataY)"
      ],
      "metadata": {
        "id": "eqRa-taW3Ktf"
      },
      "execution_count": null,
      "outputs": []
    },
    {
      "cell_type": "code",
      "source": [
        "time_step=100\n",
        "X_train,y_train=create_dataset(train_data,time_step)\n",
        "X_test,ytest=create_dataset(test_data,time_step)"
      ],
      "metadata": {
        "id": "TS0wyHVd3KwG"
      },
      "execution_count": null,
      "outputs": []
    },
    {
      "cell_type": "code",
      "source": [
        "print(X_train)"
      ],
      "metadata": {
        "id": "v3m-WhXo3KzP",
        "colab": {
          "base_uri": "https://localhost:8080/"
        },
        "outputId": "74725b14-3541-41ba-a629-41b92d13f042"
      },
      "execution_count": null,
      "outputs": [
        {
          "output_type": "stream",
          "name": "stdout",
          "text": [
            "[[0.03477572 0.05255083 0.02015486 ... 0.68157722 0.73802172 0.81761969]\n",
            " [0.05255083 0.02015486 0.03091266 ... 0.73802172 0.81761969 0.75066499]\n",
            " [0.02015486 0.03091266 0.08346226 ... 0.81761969 0.75066499 0.75394088]\n",
            " ...\n",
            " [0.75100471 0.85780561 0.78307518 ... 0.59069549 0.51004683 0.51816074]\n",
            " [0.85780561 0.78307518 0.89799138 ... 0.51004683 0.51816074 0.485332  ]\n",
            " [0.78307518 0.89799138 0.74667705 ... 0.51816074 0.485332   0.41336927]]\n"
          ]
        }
      ]
    },
    {
      "cell_type": "code",
      "source": [
        "print(X_train.shape),print(y_train.shape)"
      ],
      "metadata": {
        "id": "v1azL_V03K2M",
        "colab": {
          "base_uri": "https://localhost:8080/"
        },
        "outputId": "3d1cdc31-31e2-4c37-b55a-83368c81d8de"
      },
      "execution_count": null,
      "outputs": [
        {
          "output_type": "stream",
          "name": "stdout",
          "text": [
            "(56, 100)\n",
            "(56,)\n"
          ]
        },
        {
          "output_type": "execute_result",
          "data": {
            "text/plain": [
              "(None, None)"
            ]
          },
          "metadata": {},
          "execution_count": 26
        }
      ]
    },
    {
      "cell_type": "code",
      "source": [
        "print(X_test.shape),print(ytest.shape)"
      ],
      "metadata": {
        "id": "RuG8-7xW3K5b",
        "colab": {
          "base_uri": "https://localhost:8080/"
        },
        "outputId": "2b15dbf2-ff44-45cc-e94f-ea8542140b1b"
      },
      "execution_count": null,
      "outputs": [
        {
          "output_type": "stream",
          "name": "stdout",
          "text": [
            "(4, 100)\n",
            "(4,)\n"
          ]
        },
        {
          "output_type": "execute_result",
          "data": {
            "text/plain": [
              "(None, None)"
            ]
          },
          "metadata": {},
          "execution_count": 27
        }
      ]
    },
    {
      "cell_type": "code",
      "source": [
        "X_train=X_train.reshape(X_train.shape[0],X_train.shape[1],1)\n",
        "X_test=X_test.reshape(X_test.shape[0],X_test.shape[1],1)"
      ],
      "metadata": {
        "id": "VA_pLVkulGnE"
      },
      "execution_count": null,
      "outputs": []
    },
    {
      "cell_type": "markdown",
      "source": [
        "## let's create LSTM model"
      ],
      "metadata": {
        "id": "CxaBS17yllEp"
      }
    },
    {
      "cell_type": "code",
      "source": [
        "from tensorflow.keras.models import Sequential\n",
        "from tensorflow.keras.layers import Dense\n",
        "from tensorflow.keras.layers import LSTM"
      ],
      "metadata": {
        "id": "PBLzGYP6lGsz"
      },
      "execution_count": null,
      "outputs": []
    },
    {
      "cell_type": "code",
      "source": [
        "model=Sequential()\n",
        "model.add(LSTM(50,return_sequences=True,input_shape=(100,1)))\n",
        "model.add(LSTM(50,return_sequences=True))\n",
        "model.add(LSTM(50))\n",
        "model.add(Dense(1))\n",
        "model.compile(loss='mean_squared_error',optimizer='adam')"
      ],
      "metadata": {
        "id": "RRqgYOQMlGvZ"
      },
      "execution_count": null,
      "outputs": []
    },
    {
      "cell_type": "code",
      "source": [
        "model.summary()"
      ],
      "metadata": {
        "colab": {
          "base_uri": "https://localhost:8080/"
        },
        "id": "Eohv6R_ZlGy5",
        "outputId": "2ac7a866-75b9-4c12-9367-f50f0e273e23"
      },
      "execution_count": null,
      "outputs": [
        {
          "output_type": "stream",
          "name": "stdout",
          "text": [
            "Model: \"sequential_1\"\n",
            "_________________________________________________________________\n",
            " Layer (type)                Output Shape              Param #   \n",
            "=================================================================\n",
            " lstm (LSTM)                 (None, 100, 50)           10400     \n",
            "                                                                 \n",
            " lstm_1 (LSTM)               (None, 100, 50)           20200     \n",
            "                                                                 \n",
            " lstm_2 (LSTM)               (None, 50)                20200     \n",
            "                                                                 \n",
            " dense (Dense)               (None, 1)                 51        \n",
            "                                                                 \n",
            "=================================================================\n",
            "Total params: 50,851\n",
            "Trainable params: 50,851\n",
            "Non-trainable params: 0\n",
            "_________________________________________________________________\n"
          ]
        }
      ]
    },
    {
      "cell_type": "code",
      "source": [
        "X_train[:100]"
      ],
      "metadata": {
        "colab": {
          "base_uri": "https://localhost:8080/"
        },
        "id": "WaGlrz-BlG6H",
        "outputId": "b7744ca9-0c3b-4693-e50d-9b55f85b3abd"
      },
      "execution_count": null,
      "outputs": [
        {
          "output_type": "execute_result",
          "data": {
            "text/plain": [
              "array([[[0.03477572],\n",
              "        [0.05255083],\n",
              "        [0.02015486],\n",
              "        ...,\n",
              "        [0.68157722],\n",
              "        [0.73802172],\n",
              "        [0.81761969]],\n",
              "\n",
              "       [[0.05255083],\n",
              "        [0.02015486],\n",
              "        [0.03091266],\n",
              "        ...,\n",
              "        [0.73802172],\n",
              "        [0.81761969],\n",
              "        [0.75066499]],\n",
              "\n",
              "       [[0.02015486],\n",
              "        [0.03091266],\n",
              "        [0.08346226],\n",
              "        ...,\n",
              "        [0.81761969],\n",
              "        [0.75066499],\n",
              "        [0.75394088]],\n",
              "\n",
              "       ...,\n",
              "\n",
              "       [[0.75100471],\n",
              "        [0.85780561],\n",
              "        [0.78307518],\n",
              "        ...,\n",
              "        [0.59069549],\n",
              "        [0.51004683],\n",
              "        [0.51816074]],\n",
              "\n",
              "       [[0.85780561],\n",
              "        [0.78307518],\n",
              "        [0.89799138],\n",
              "        ...,\n",
              "        [0.51004683],\n",
              "        [0.51816074],\n",
              "        [0.485332  ]],\n",
              "\n",
              "       [[0.78307518],\n",
              "        [0.89799138],\n",
              "        [0.74667705],\n",
              "        ...,\n",
              "        [0.51816074],\n",
              "        [0.485332  ],\n",
              "        [0.41336927]]])"
            ]
          },
          "metadata": {},
          "execution_count": 33
        }
      ]
    },
    {
      "cell_type": "code",
      "source": [
        "model.fit(X_train,y_train,validation_data=(X_test,ytest),epochs=100,batch_size=64,verbose=1)"
      ],
      "metadata": {
        "colab": {
          "base_uri": "https://localhost:8080/"
        },
        "id": "lCV3EpmYlG79",
        "outputId": "017141a4-f23b-4eff-d819-fbf4d5f5d814"
      },
      "execution_count": null,
      "outputs": [
        {
          "output_type": "stream",
          "name": "stdout",
          "text": [
            "Epoch 1/100\n",
            "1/1 [==============================] - 8s 8s/step - loss: 0.4239 - val_loss: 0.0516\n",
            "Epoch 2/100\n",
            "1/1 [==============================] - 0s 238ms/step - loss: 0.2762 - val_loss: 0.0207\n",
            "Epoch 3/100\n",
            "1/1 [==============================] - 0s 242ms/step - loss: 0.1567 - val_loss: 0.0023\n",
            "Epoch 4/100\n",
            "1/1 [==============================] - 0s 237ms/step - loss: 0.0615 - val_loss: 0.0061\n",
            "Epoch 5/100\n",
            "1/1 [==============================] - 0s 228ms/step - loss: 0.0086 - val_loss: 0.0469\n",
            "Epoch 6/100\n",
            "1/1 [==============================] - 0s 233ms/step - loss: 0.0309 - val_loss: 0.0805\n",
            "Epoch 7/100\n",
            "1/1 [==============================] - 0s 317ms/step - loss: 0.0678 - val_loss: 0.0721\n",
            "Epoch 8/100\n",
            "1/1 [==============================] - 0s 378ms/step - loss: 0.0549 - val_loss: 0.0469\n",
            "Epoch 9/100\n",
            "1/1 [==============================] - 0s 415ms/step - loss: 0.0264 - val_loss: 0.0248\n",
            "Epoch 10/100\n",
            "1/1 [==============================] - 0s 422ms/step - loss: 0.0090 - val_loss: 0.0112\n",
            "Epoch 11/100\n",
            "1/1 [==============================] - 0s 420ms/step - loss: 0.0069 - val_loss: 0.0046\n",
            "Epoch 12/100\n",
            "1/1 [==============================] - 0s 392ms/step - loss: 0.0135 - val_loss: 0.0019\n",
            "Epoch 13/100\n",
            "1/1 [==============================] - 0s 418ms/step - loss: 0.0214 - val_loss: 0.0011\n",
            "Epoch 14/100\n",
            "1/1 [==============================] - 0s 368ms/step - loss: 0.0264 - val_loss: 0.0010\n",
            "Epoch 15/100\n",
            "1/1 [==============================] - 0s 244ms/step - loss: 0.0271 - val_loss: 0.0016\n",
            "Epoch 16/100\n",
            "1/1 [==============================] - 0s 238ms/step - loss: 0.0241 - val_loss: 0.0029\n",
            "Epoch 17/100\n",
            "1/1 [==============================] - 0s 239ms/step - loss: 0.0189 - val_loss: 0.0055\n",
            "Epoch 18/100\n",
            "1/1 [==============================] - 0s 252ms/step - loss: 0.0132 - val_loss: 0.0097\n",
            "Epoch 19/100\n",
            "1/1 [==============================] - 0s 281ms/step - loss: 0.0087 - val_loss: 0.0155\n",
            "Epoch 20/100\n",
            "1/1 [==============================] - 0s 232ms/step - loss: 0.0065 - val_loss: 0.0224\n",
            "Epoch 21/100\n",
            "1/1 [==============================] - 0s 238ms/step - loss: 0.0069 - val_loss: 0.0293\n",
            "Epoch 22/100\n",
            "1/1 [==============================] - 0s 250ms/step - loss: 0.0091 - val_loss: 0.0347\n",
            "Epoch 23/100\n",
            "1/1 [==============================] - 0s 248ms/step - loss: 0.0117 - val_loss: 0.0374\n",
            "Epoch 24/100\n",
            "1/1 [==============================] - 0s 234ms/step - loss: 0.0131 - val_loss: 0.0369\n",
            "Epoch 25/100\n",
            "1/1 [==============================] - 0s 237ms/step - loss: 0.0128 - val_loss: 0.0337\n",
            "Epoch 26/100\n",
            "1/1 [==============================] - 0s 238ms/step - loss: 0.0110 - val_loss: 0.0291\n",
            "Epoch 27/100\n",
            "1/1 [==============================] - 0s 240ms/step - loss: 0.0088 - val_loss: 0.0240\n",
            "Epoch 28/100\n",
            "1/1 [==============================] - 0s 254ms/step - loss: 0.0071 - val_loss: 0.0194\n",
            "Epoch 29/100\n",
            "1/1 [==============================] - 0s 229ms/step - loss: 0.0064 - val_loss: 0.0157\n",
            "Epoch 30/100\n",
            "1/1 [==============================] - 0s 276ms/step - loss: 0.0066 - val_loss: 0.0130\n",
            "Epoch 31/100\n",
            "1/1 [==============================] - 0s 234ms/step - loss: 0.0073 - val_loss: 0.0112\n",
            "Epoch 32/100\n",
            "1/1 [==============================] - 0s 259ms/step - loss: 0.0081 - val_loss: 0.0103\n",
            "Epoch 33/100\n",
            "1/1 [==============================] - 0s 248ms/step - loss: 0.0087 - val_loss: 0.0101\n",
            "Epoch 34/100\n",
            "1/1 [==============================] - 0s 228ms/step - loss: 0.0089 - val_loss: 0.0106\n",
            "Epoch 35/100\n",
            "1/1 [==============================] - 0s 243ms/step - loss: 0.0086 - val_loss: 0.0116\n",
            "Epoch 36/100\n",
            "1/1 [==============================] - 0s 244ms/step - loss: 0.0080 - val_loss: 0.0133\n",
            "Epoch 37/100\n",
            "1/1 [==============================] - 0s 241ms/step - loss: 0.0073 - val_loss: 0.0153\n",
            "Epoch 38/100\n",
            "1/1 [==============================] - 0s 228ms/step - loss: 0.0067 - val_loss: 0.0177\n",
            "Epoch 39/100\n",
            "1/1 [==============================] - 0s 240ms/step - loss: 0.0064 - val_loss: 0.0202\n",
            "Epoch 40/100\n",
            "1/1 [==============================] - 0s 240ms/step - loss: 0.0064 - val_loss: 0.0224\n",
            "Epoch 41/100\n",
            "1/1 [==============================] - 0s 235ms/step - loss: 0.0067 - val_loss: 0.0241\n",
            "Epoch 42/100\n",
            "1/1 [==============================] - 0s 239ms/step - loss: 0.0070 - val_loss: 0.0250\n",
            "Epoch 43/100\n",
            "1/1 [==============================] - 0s 243ms/step - loss: 0.0072 - val_loss: 0.0251\n",
            "Epoch 44/100\n",
            "1/1 [==============================] - 0s 238ms/step - loss: 0.0073 - val_loss: 0.0243\n",
            "Epoch 45/100\n",
            "1/1 [==============================] - 0s 238ms/step - loss: 0.0071 - val_loss: 0.0229\n",
            "Epoch 46/100\n",
            "1/1 [==============================] - 0s 242ms/step - loss: 0.0068 - val_loss: 0.0212\n",
            "Epoch 47/100\n",
            "1/1 [==============================] - 0s 243ms/step - loss: 0.0065 - val_loss: 0.0194\n",
            "Epoch 48/100\n",
            "1/1 [==============================] - 0s 229ms/step - loss: 0.0064 - val_loss: 0.0177\n",
            "Epoch 49/100\n",
            "1/1 [==============================] - 0s 233ms/step - loss: 0.0063 - val_loss: 0.0164\n",
            "Epoch 50/100\n",
            "1/1 [==============================] - 0s 240ms/step - loss: 0.0064 - val_loss: 0.0154\n",
            "Epoch 51/100\n",
            "1/1 [==============================] - 0s 231ms/step - loss: 0.0066 - val_loss: 0.0149\n",
            "Epoch 52/100\n",
            "1/1 [==============================] - 0s 238ms/step - loss: 0.0067 - val_loss: 0.0148\n",
            "Epoch 53/100\n",
            "1/1 [==============================] - 0s 244ms/step - loss: 0.0067 - val_loss: 0.0150\n",
            "Epoch 54/100\n",
            "1/1 [==============================] - 0s 301ms/step - loss: 0.0066 - val_loss: 0.0156\n",
            "Epoch 55/100\n",
            "1/1 [==============================] - 0s 429ms/step - loss: 0.0065 - val_loss: 0.0164\n",
            "Epoch 56/100\n",
            "1/1 [==============================] - 0s 435ms/step - loss: 0.0064 - val_loss: 0.0173\n",
            "Epoch 57/100\n",
            "1/1 [==============================] - 0s 393ms/step - loss: 0.0063 - val_loss: 0.0183\n",
            "Epoch 58/100\n",
            "1/1 [==============================] - 0s 428ms/step - loss: 0.0063 - val_loss: 0.0192\n",
            "Epoch 59/100\n",
            "1/1 [==============================] - 0s 396ms/step - loss: 0.0063 - val_loss: 0.0198\n",
            "Epoch 60/100\n",
            "1/1 [==============================] - 0s 389ms/step - loss: 0.0064 - val_loss: 0.0202\n",
            "Epoch 61/100\n",
            "1/1 [==============================] - 0s 340ms/step - loss: 0.0064 - val_loss: 0.0202\n",
            "Epoch 62/100\n",
            "1/1 [==============================] - 0s 243ms/step - loss: 0.0064 - val_loss: 0.0199\n",
            "Epoch 63/100\n",
            "1/1 [==============================] - 0s 238ms/step - loss: 0.0064 - val_loss: 0.0193\n",
            "Epoch 64/100\n",
            "1/1 [==============================] - 0s 233ms/step - loss: 0.0064 - val_loss: 0.0185\n",
            "Epoch 65/100\n",
            "1/1 [==============================] - 0s 241ms/step - loss: 0.0063 - val_loss: 0.0177\n",
            "Epoch 66/100\n",
            "1/1 [==============================] - 0s 228ms/step - loss: 0.0063 - val_loss: 0.0170\n",
            "Epoch 67/100\n",
            "1/1 [==============================] - 0s 239ms/step - loss: 0.0063 - val_loss: 0.0164\n",
            "Epoch 68/100\n",
            "1/1 [==============================] - 0s 240ms/step - loss: 0.0063 - val_loss: 0.0160\n",
            "Epoch 69/100\n",
            "1/1 [==============================] - 0s 245ms/step - loss: 0.0063 - val_loss: 0.0158\n",
            "Epoch 70/100\n",
            "1/1 [==============================] - 0s 235ms/step - loss: 0.0063 - val_loss: 0.0158\n",
            "Epoch 71/100\n",
            "1/1 [==============================] - 0s 231ms/step - loss: 0.0063 - val_loss: 0.0159\n",
            "Epoch 72/100\n",
            "1/1 [==============================] - 0s 232ms/step - loss: 0.0063 - val_loss: 0.0162\n",
            "Epoch 73/100\n",
            "1/1 [==============================] - 0s 244ms/step - loss: 0.0063 - val_loss: 0.0166\n",
            "Epoch 74/100\n",
            "1/1 [==============================] - 0s 279ms/step - loss: 0.0063 - val_loss: 0.0169\n",
            "Epoch 75/100\n",
            "1/1 [==============================] - 0s 244ms/step - loss: 0.0063 - val_loss: 0.0173\n",
            "Epoch 76/100\n",
            "1/1 [==============================] - 0s 240ms/step - loss: 0.0063 - val_loss: 0.0175\n",
            "Epoch 77/100\n",
            "1/1 [==============================] - 0s 236ms/step - loss: 0.0063 - val_loss: 0.0176\n",
            "Epoch 78/100\n",
            "1/1 [==============================] - 0s 237ms/step - loss: 0.0063 - val_loss: 0.0175\n",
            "Epoch 79/100\n",
            "1/1 [==============================] - 0s 255ms/step - loss: 0.0063 - val_loss: 0.0173\n",
            "Epoch 80/100\n",
            "1/1 [==============================] - 0s 239ms/step - loss: 0.0063 - val_loss: 0.0170\n",
            "Epoch 81/100\n",
            "1/1 [==============================] - 0s 279ms/step - loss: 0.0062 - val_loss: 0.0166\n",
            "Epoch 82/100\n",
            "1/1 [==============================] - 0s 232ms/step - loss: 0.0062 - val_loss: 0.0162\n",
            "Epoch 83/100\n",
            "1/1 [==============================] - 0s 236ms/step - loss: 0.0062 - val_loss: 0.0158\n",
            "Epoch 84/100\n",
            "1/1 [==============================] - 0s 236ms/step - loss: 0.0062 - val_loss: 0.0156\n",
            "Epoch 85/100\n",
            "1/1 [==============================] - 0s 242ms/step - loss: 0.0062 - val_loss: 0.0154\n",
            "Epoch 86/100\n",
            "1/1 [==============================] - 0s 246ms/step - loss: 0.0062 - val_loss: 0.0153\n",
            "Epoch 87/100\n",
            "1/1 [==============================] - 0s 240ms/step - loss: 0.0062 - val_loss: 0.0153\n",
            "Epoch 88/100\n",
            "1/1 [==============================] - 0s 232ms/step - loss: 0.0062 - val_loss: 0.0154\n",
            "Epoch 89/100\n",
            "1/1 [==============================] - 0s 234ms/step - loss: 0.0062 - val_loss: 0.0155\n",
            "Epoch 90/100\n",
            "1/1 [==============================] - 0s 246ms/step - loss: 0.0062 - val_loss: 0.0156\n",
            "Epoch 91/100\n",
            "1/1 [==============================] - 0s 239ms/step - loss: 0.0062 - val_loss: 0.0157\n",
            "Epoch 92/100\n",
            "1/1 [==============================] - 0s 248ms/step - loss: 0.0062 - val_loss: 0.0157\n",
            "Epoch 93/100\n",
            "1/1 [==============================] - 0s 227ms/step - loss: 0.0062 - val_loss: 0.0157\n",
            "Epoch 94/100\n",
            "1/1 [==============================] - 0s 245ms/step - loss: 0.0062 - val_loss: 0.0156\n",
            "Epoch 95/100\n",
            "1/1 [==============================] - 0s 236ms/step - loss: 0.0062 - val_loss: 0.0155\n",
            "Epoch 96/100\n",
            "1/1 [==============================] - 0s 226ms/step - loss: 0.0062 - val_loss: 0.0153\n",
            "Epoch 97/100\n",
            "1/1 [==============================] - 0s 239ms/step - loss: 0.0062 - val_loss: 0.0150\n",
            "Epoch 98/100\n",
            "1/1 [==============================] - 0s 244ms/step - loss: 0.0062 - val_loss: 0.0148\n",
            "Epoch 99/100\n",
            "1/1 [==============================] - 0s 236ms/step - loss: 0.0062 - val_loss: 0.0146\n",
            "Epoch 100/100\n",
            "1/1 [==============================] - 0s 230ms/step - loss: 0.0062 - val_loss: 0.0145\n"
          ]
        },
        {
          "output_type": "execute_result",
          "data": {
            "text/plain": [
              "<keras.callbacks.History at 0x7bb3e04b92d0>"
            ]
          },
          "metadata": {},
          "execution_count": 34
        }
      ]
    },
    {
      "cell_type": "code",
      "source": [
        "train_predict=model.predict(X_train)\n",
        "test_predict=model.predict(X_test)"
      ],
      "metadata": {
        "colab": {
          "base_uri": "https://localhost:8080/"
        },
        "id": "miNo2c75nxpp",
        "outputId": "8f891029-03b9-4910-b008-686c2d5e4fad"
      },
      "execution_count": null,
      "outputs": [
        {
          "output_type": "stream",
          "name": "stdout",
          "text": [
            "2/2 [==============================] - 0s 64ms/step\n",
            "1/1 [==============================] - 0s 68ms/step\n"
          ]
        }
      ]
    },
    {
      "cell_type": "code",
      "source": [
        "train_predict=scaler.inverse_transform(train_predict)\n",
        "test_predict=scaler.inverse_transform(test_predict)"
      ],
      "metadata": {
        "id": "DKn07KAyoL3r"
      },
      "execution_count": null,
      "outputs": []
    },
    {
      "cell_type": "code",
      "source": [
        "import math\n",
        "from sklearn.metrics import mean_squared_error\n",
        "math.sqrt(mean_squared_error(y_train,train_predict))"
      ],
      "metadata": {
        "colab": {
          "base_uri": "https://localhost:8080/"
        },
        "id": "Ej2r4j0-olNV",
        "outputId": "1575777e-24c6-49cd-86cd-161feb212377"
      },
      "execution_count": null,
      "outputs": [
        {
          "output_type": "execute_result",
          "data": {
            "text/plain": [
              "74.51191953600748"
            ]
          },
          "metadata": {},
          "execution_count": 38
        }
      ]
    },
    {
      "cell_type": "code",
      "source": [
        "math.sqrt(mean_squared_error(ytest,test_predict))"
      ],
      "metadata": {
        "colab": {
          "base_uri": "https://localhost:8080/"
        },
        "id": "b_M7iBKroLsC",
        "outputId": "de5c00d5-11d9-4e3b-ca34-48b88591d589"
      },
      "execution_count": null,
      "outputs": [
        {
          "output_type": "execute_result",
          "data": {
            "text/plain": [
              "73.48993890542694"
            ]
          },
          "metadata": {},
          "execution_count": 40
        }
      ]
    },
    {
      "cell_type": "code",
      "source": [
        "# shift train predictions for plotting\n",
        "look_back=100\n",
        "trainPredictPlot = numpy.empty_like(df1)\n",
        "trainPredictPlot[:, :] = np.nan\n",
        "trainPredictPlot[look_back:len(train_predict)+look_back, :] = train_predict\n",
        "# shift test predictions for plotting\n",
        "testPredictPlot = numpy.empty_like(df1)\n",
        "testPredictPlot[:, :] = numpy.nan\n",
        "testPredictPlot[len(train_predict)+(look_back*2)+1:len(df1)-1, :] = test_predict\n",
        "# plot baseline and predictions\n",
        "plt.plot(scaler.inverse_transform(df1))\n",
        "plt.plot(trainPredictPlot)\n",
        "plt.plot(testPredictPlot)\n",
        "plt.show()"
      ],
      "metadata": {
        "colab": {
          "base_uri": "https://localhost:8080/",
          "height": 430
        },
        "id": "_xAD4rmupNF8",
        "outputId": "a6330750-b761-4103-d241-9736219bd798"
      },
      "execution_count": null,
      "outputs": [
        {
          "output_type": "display_data",
          "data": {
            "text/plain": [
              "<Figure size 640x480 with 1 Axes>"
            ],
            "image/png": "[encoded data removed]"
          },
          "metadata": {}
        }
      ]
    },
    {
      "cell_type": "code",
      "execution_count": null,
      "metadata": {
        "id": "DdkFW5GQK8pw"
      },
      "outputs": [],
      "source": [
        "x_input=test_data[5:].reshape(1,-1)"
      ]
    },
    {
      "cell_type": "code",
      "execution_count": null,
      "metadata": {
        "colab": {
          "base_uri": "https://localhost:8080/"
        },
        "id": "Cmuf_3KyLJmz",
        "outputId": "1676858e-3e08-4e4a-e8ee-4dae799ff90e"
      },
      "outputs": [
        {
          "output_type": "execute_result",
          "data": {
            "text/plain": [
              "(1, 100)"
            ]
          },
          "metadata": {},
          "execution_count": 43
        }
      ],
      "source": [
        "x_input.shape"
      ]
    },
    {
      "cell_type": "code",
      "execution_count": null,
      "metadata": {
        "id": "_fsPwR7eLMiU"
      },
      "outputs": [],
      "source": [
        "temp_input=list(x_input)\n",
        "temp_input=temp_input[0].tolist()"
      ]
    },
    {
      "cell_type": "code",
      "execution_count": null,
      "metadata": {
        "colab": {
          "base_uri": "https://localhost:8080/"
        },
        "id": "UbW0nTtzSUBd",
        "outputId": "03378deb-266c-4b4d-af8c-669cfe5e77f1"
      },
      "outputs": [
        {
          "output_type": "execute_result",
          "data": {
            "text/plain": [
              "[0.4152701962070502,\n",
              " 0.37867144399646335,\n",
              " 0.37516217151092235,\n",
              " 0.3676354350431428,\n",
              " 0.38871703594527496,\n",
              " 0.41731130840454256,\n",
              " 0.3787787082600591,\n",
              " 0.3838646417729077,\n",
              " 0.3763213674431629,\n",
              " 0.38327731583390623,\n",
              " 0.37140637669045695,\n",
              " 0.4139718967629378,\n",
              " 0.39913527074643973,\n",
              " 0.40174717102096835,\n",
              " 0.4443584406929091,\n",
              " 0.42426617487908125,\n",
              " 0.40262800537001375,\n",
              " 0.3272031446049031,\n",
              " 0.34349371143934704,\n",
              " 0.3104019133224387,\n",
              " 0.41962954570957045,\n",
              " 0.37751224806421924,\n",
              " 0.33701751560509585,\n",
              " 0.29595091315273336,\n",
              " 0.34788273635773415,\n",
              " 0.3894906060307246,\n",
              " 0.3394444082088395,\n",
              " 0.35100514652082104,\n",
              " 0.3622570750364549,\n",
              " 0.3825345030805245,\n",
              " 0.3937403728777831,\n",
              " 0.3989641734268403,\n",
              " 0.40494624267504165,\n",
              " 0.42085010174649184,\n",
              " 0.4402632333034848,\n",
              " 0.41808364201433257,\n",
              " 0.5162292067297685,\n",
              " 0.4890264330675631,\n",
              " 0.5333075631197648,\n",
              " 0.5188258056179897,\n",
              " 0.5495522257952938,\n",
              " 0.5069548664745405,\n",
              " 0.466770334846883,\n",
              " 0.44510017153008796,\n",
              " 0.44098950819489957,\n",
              " 0.4917468340813489,\n",
              " 0.5363216271030513,\n",
              " 0.581916357985671,\n",
              " 0.5236015382993706,\n",
              " 0.5128437363697884,\n",
              " 0.522364598959939,\n",
              " 0.5131373993392909,\n",
              " 0.4636171673517264,\n",
              " 0.47332303761266203,\n",
              " 0.48607496566461883,\n",
              " 0.4421640055134457,\n",
              " 0.41420419962775945,\n",
              " 0.45576492866617535,\n",
              " 0.4390887359849369,\n",
              " 0.4521176345849671,\n",
              " 0.3948995688100254,\n",
              " 0.3960740661285733,\n",
              " 0.4273415989670486,\n",
              " 0.4158113088682214,\n",
              " 0.45131346172690634,\n",
              " 0.4059355777633442,\n",
              " 0.4381760623876154,\n",
              " 0.4059816364817195,\n",
              " 0.40772800379350826,\n",
              " 0.42658456674356593,\n",
              " 0.41109817276718097,\n",
              " 0.388964640196404,\n",
              " 0.3755488792739161,\n",
              " 0.3869553672471824,\n",
              " 0.4382232030221953,\n",
              " 0.48995332613498555,\n",
              " 0.42346200202102047,\n",
              " 0.3798765440876224,\n",
              " 0.4001552086073552,\n",
              " 0.37788257252470814,\n",
              " 0.3637711394834202,\n",
              " 0.3143747096214202,\n",
              " 0.3074504459194909,\n",
              " 0.30788321240086347,\n",
              " 0.34312230506265706,\n",
              " 0.3515924724598243,\n",
              " 0.3493048379274075,\n",
              " 0.3625966421648723,\n",
              " 0.3513754709813064,\n",
              " 0.37302894187668123,\n",
              " 0.31916574368910666,\n",
              " 0.31992277591258933,\n",
              " 0.3072028416683654,\n",
              " 0.31823776870548137,\n",
              " 0.3228283391566187,\n",
              " 0.32332354765887317,\n",
              " 0.2798914127074461,\n",
              " 0.28669311075947235,\n",
              " 0.29303004852239667,\n",
              " 0.28902664945080403]"
            ]
          },
          "metadata": {},
          "execution_count": 45
        }
      ],
      "source": [
        "temp_input"
      ]
    },
    {
      "cell_type": "code",
      "execution_count": null,
      "metadata": {
        "colab": {
          "base_uri": "https://localhost:8080/"
        },
        "id": "lyFo6KkVLhMv",
        "outputId": "3237917c-7e05-4cdc-da3a-295c3db89921"
      },
      "outputs": [
        {
          "output_type": "stream",
          "name": "stdout",
          "text": [
            "[0.404556]\n",
            "101\n",
            "1 day input [0.37867144 0.37516217 0.36763544 0.38871704 0.41731131 0.37877871\n",
            " 0.38386464 0.37632137 0.38327732 0.37140638 0.4139719  0.39913527\n",
            " 0.40174717 0.44435844 0.42426617 0.40262801 0.32720314 0.34349371\n",
            " 0.31040191 0.41962955 0.37751225 0.33701752 0.29595091 0.34788274\n",
            " 0.38949061 0.33944441 0.35100515 0.36225708 0.3825345  0.39374037\n",
            " 0.39896417 0.40494624 0.4208501  0.44026323 0.41808364 0.51622921\n",
            " 0.48902643 0.53330756 0.51882581 0.54955223 0.50695487 0.46677033\n",
            " 0.44510017 0.44098951 0.49174683 0.53632163 0.58191636 0.52360154\n",
            " 0.51284374 0.5223646  0.5131374  0.46361717 0.47332304 0.48607497\n",
            " 0.44216401 0.4142042  0.45576493 0.43908874 0.45211763 0.39489957\n",
            " 0.39607407 0.4273416  0.41581131 0.45131346 0.40593558 0.43817606\n",
            " 0.40598164 0.407728   0.42658457 0.41109817 0.38896464 0.37554888\n",
            " 0.38695537 0.4382232  0.48995333 0.423462   0.37987654 0.40015521\n",
            " 0.37788257 0.36377114 0.31437471 0.30745045 0.30788321 0.34312231\n",
            " 0.35159247 0.34930484 0.36259664 0.35137547 0.37302894 0.31916574\n",
            " 0.31992278 0.30720284 0.31823777 0.32282834 0.32332355 0.27989141\n",
            " 0.28669311 0.29303005 0.28902665 0.40455601]\n",
            "1 day output [[0.40198478]]\n",
            "2 day input [0.37516217 0.36763544 0.38871704 0.41731131 0.37877871 0.38386464\n",
            " 0.37632137 0.38327732 0.37140638 0.4139719  0.39913527 0.40174717\n",
            " 0.44435844 0.42426617 0.40262801 0.32720314 0.34349371 0.31040191\n",
            " 0.41962955 0.37751225 0.33701752 0.29595091 0.34788274 0.38949061\n",
            " 0.33944441 0.35100515 0.36225708 0.3825345  0.39374037 0.39896417\n",
            " 0.40494624 0.4208501  0.44026323 0.41808364 0.51622921 0.48902643\n",
            " 0.53330756 0.51882581 0.54955223 0.50695487 0.46677033 0.44510017\n",
            " 0.44098951 0.49174683 0.53632163 0.58191636 0.52360154 0.51284374\n",
            " 0.5223646  0.5131374  0.46361717 0.47332304 0.48607497 0.44216401\n",
            " 0.4142042  0.45576493 0.43908874 0.45211763 0.39489957 0.39607407\n",
            " 0.4273416  0.41581131 0.45131346 0.40593558 0.43817606 0.40598164\n",
            " 0.407728   0.42658457 0.41109817 0.38896464 0.37554888 0.38695537\n",
            " 0.4382232  0.48995333 0.423462   0.37987654 0.40015521 0.37788257\n",
            " 0.36377114 0.31437471 0.30745045 0.30788321 0.34312231 0.35159247\n",
            " 0.34930484 0.36259664 0.35137547 0.37302894 0.31916574 0.31992278\n",
            " 0.30720284 0.31823777 0.32282834 0.32332355 0.27989141 0.28669311\n",
            " 0.29303005 0.28902665 0.40455601 0.40198478]\n",
            "2 day output [[0.40023708]]\n",
            "3 day input [0.36763544 0.38871704 0.41731131 0.37877871 0.38386464 0.37632137\n",
            " 0.38327732 0.37140638 0.4139719  0.39913527 0.40174717 0.44435844\n",
            " 0.42426617 0.40262801 0.32720314 0.34349371 0.31040191 0.41962955\n",
            " 0.37751225 0.33701752 0.29595091 0.34788274 0.38949061 0.33944441\n",
            " 0.35100515 0.36225708 0.3825345  0.39374037 0.39896417 0.40494624\n",
            " 0.4208501  0.44026323 0.41808364 0.51622921 0.48902643 0.53330756\n",
            " 0.51882581 0.54955223 0.50695487 0.46677033 0.44510017 0.44098951\n",
            " 0.49174683 0.53632163 0.58191636 0.52360154 0.51284374 0.5223646\n",
            " 0.5131374  0.46361717 0.47332304 0.48607497 0.44216401 0.4142042\n",
            " 0.45576493 0.43908874 0.45211763 0.39489957 0.39607407 0.4273416\n",
            " 0.41581131 0.45131346 0.40593558 0.43817606 0.40598164 0.407728\n",
            " 0.42658457 0.41109817 0.38896464 0.37554888 0.38695537 0.4382232\n",
            " 0.48995333 0.423462   0.37987654 0.40015521 0.37788257 0.36377114\n",
            " 0.31437471 0.30745045 0.30788321 0.34312231 0.35159247 0.34930484\n",
            " 0.36259664 0.35137547 0.37302894 0.31916574 0.31992278 0.30720284\n",
            " 0.31823777 0.32282834 0.32332355 0.27989141 0.28669311 0.29303005\n",
            " 0.28902665 0.40455601 0.40198478 0.40023708]\n",
            "3 day output [[0.3993924]]\n",
            "4 day input [0.38871704 0.41731131 0.37877871 0.38386464 0.37632137 0.38327732\n",
            " 0.37140638 0.4139719  0.39913527 0.40174717 0.44435844 0.42426617\n",
            " 0.40262801 0.32720314 0.34349371 0.31040191 0.41962955 0.37751225\n",
            " 0.33701752 0.29595091 0.34788274 0.38949061 0.33944441 0.35100515\n",
            " 0.36225708 0.3825345  0.39374037 0.39896417 0.40494624 0.4208501\n",
            " 0.44026323 0.41808364 0.51622921 0.48902643 0.53330756 0.51882581\n",
            " 0.54955223 0.50695487 0.46677033 0.44510017 0.44098951 0.49174683\n",
            " 0.53632163 0.58191636 0.52360154 0.51284374 0.5223646  0.5131374\n",
            " 0.46361717 0.47332304 0.48607497 0.44216401 0.4142042  0.45576493\n",
            " 0.43908874 0.45211763 0.39489957 0.39607407 0.4273416  0.41581131\n",
            " 0.45131346 0.40593558 0.43817606 0.40598164 0.407728   0.42658457\n",
            " 0.41109817 0.38896464 0.37554888 0.38695537 0.4382232  0.48995333\n",
            " 0.423462   0.37987654 0.40015521 0.37788257 0.36377114 0.31437471\n",
            " 0.30745045 0.30788321 0.34312231 0.35159247 0.34930484 0.36259664\n",
            " 0.35137547 0.37302894 0.31916574 0.31992278 0.30720284 0.31823777\n",
            " 0.32282834 0.32332355 0.27989141 0.28669311 0.29303005 0.28902665\n",
            " 0.40455601 0.40198478 0.40023708 0.3993924 ]\n",
            "4 day output [[0.3994213]]\n",
            "5 day input [0.41731131 0.37877871 0.38386464 0.37632137 0.38327732 0.37140638\n",
            " 0.4139719  0.39913527 0.40174717 0.44435844 0.42426617 0.40262801\n",
            " 0.32720314 0.34349371 0.31040191 0.41962955 0.37751225 0.33701752\n",
            " 0.29595091 0.34788274 0.38949061 0.33944441 0.35100515 0.36225708\n",
            " 0.3825345  0.39374037 0.39896417 0.40494624 0.4208501  0.44026323\n",
            " 0.41808364 0.51622921 0.48902643 0.53330756 0.51882581 0.54955223\n",
            " 0.50695487 0.46677033 0.44510017 0.44098951 0.49174683 0.53632163\n",
            " 0.58191636 0.52360154 0.51284374 0.5223646  0.5131374  0.46361717\n",
            " 0.47332304 0.48607497 0.44216401 0.4142042  0.45576493 0.43908874\n",
            " 0.45211763 0.39489957 0.39607407 0.4273416  0.41581131 0.45131346\n",
            " 0.40593558 0.43817606 0.40598164 0.407728   0.42658457 0.41109817\n",
            " 0.38896464 0.37554888 0.38695537 0.4382232  0.48995333 0.423462\n",
            " 0.37987654 0.40015521 0.37788257 0.36377114 0.31437471 0.30745045\n",
            " 0.30788321 0.34312231 0.35159247 0.34930484 0.36259664 0.35137547\n",
            " 0.37302894 0.31916574 0.31992278 0.30720284 0.31823777 0.32282834\n",
            " 0.32332355 0.27989141 0.28669311 0.29303005 0.28902665 0.40455601\n",
            " 0.40198478 0.40023708 0.3993924  0.3994213 ]\n",
            "5 day output [[0.40023577]]\n",
            "6 day input [0.37877871 0.38386464 0.37632137 0.38327732 0.37140638 0.4139719\n",
            " 0.39913527 0.40174717 0.44435844 0.42426617 0.40262801 0.32720314\n",
            " 0.34349371 0.31040191 0.41962955 0.37751225 0.33701752 0.29595091\n",
            " 0.34788274 0.38949061 0.33944441 0.35100515 0.36225708 0.3825345\n",
            " 0.39374037 0.39896417 0.40494624 0.4208501  0.44026323 0.41808364\n",
            " 0.51622921 0.48902643 0.53330756 0.51882581 0.54955223 0.50695487\n",
            " 0.46677033 0.44510017 0.44098951 0.49174683 0.53632163 0.58191636\n",
            " 0.52360154 0.51284374 0.5223646  0.5131374  0.46361717 0.47332304\n",
            " 0.48607497 0.44216401 0.4142042  0.45576493 0.43908874 0.45211763\n",
            " 0.39489957 0.39607407 0.4273416  0.41581131 0.45131346 0.40593558\n",
            " 0.43817606 0.40598164 0.407728   0.42658457 0.41109817 0.38896464\n",
            " 0.37554888 0.38695537 0.4382232  0.48995333 0.423462   0.37987654\n",
            " 0.40015521 0.37788257 0.36377114 0.31437471 0.30745045 0.30788321\n",
            " 0.34312231 0.35159247 0.34930484 0.36259664 0.35137547 0.37302894\n",
            " 0.31916574 0.31992278 0.30720284 0.31823777 0.32282834 0.32332355\n",
            " 0.27989141 0.28669311 0.29303005 0.28902665 0.40455601 0.40198478\n",
            " 0.40023708 0.3993924  0.3994213  0.40023577]\n",
            "6 day output [[0.40172154]]\n",
            "7 day input [0.38386464 0.37632137 0.38327732 0.37140638 0.4139719  0.39913527\n",
            " 0.40174717 0.44435844 0.42426617 0.40262801 0.32720314 0.34349371\n",
            " 0.31040191 0.41962955 0.37751225 0.33701752 0.29595091 0.34788274\n",
            " 0.38949061 0.33944441 0.35100515 0.36225708 0.3825345  0.39374037\n",
            " 0.39896417 0.40494624 0.4208501  0.44026323 0.41808364 0.51622921\n",
            " 0.48902643 0.53330756 0.51882581 0.54955223 0.50695487 0.46677033\n",
            " 0.44510017 0.44098951 0.49174683 0.53632163 0.58191636 0.52360154\n",
            " 0.51284374 0.5223646  0.5131374  0.46361717 0.47332304 0.48607497\n",
            " 0.44216401 0.4142042  0.45576493 0.43908874 0.45211763 0.39489957\n",
            " 0.39607407 0.4273416  0.41581131 0.45131346 0.40593558 0.43817606\n",
            " 0.40598164 0.407728   0.42658457 0.41109817 0.38896464 0.37554888\n",
            " 0.38695537 0.4382232  0.48995333 0.423462   0.37987654 0.40015521\n",
            " 0.37788257 0.36377114 0.31437471 0.30745045 0.30788321 0.34312231\n",
            " 0.35159247 0.34930484 0.36259664 0.35137547 0.37302894 0.31916574\n",
            " 0.31992278 0.30720284 0.31823777 0.32282834 0.32332355 0.27989141\n",
            " 0.28669311 0.29303005 0.28902665 0.40455601 0.40198478 0.40023708\n",
            " 0.3993924  0.3994213  0.40023577 0.40172154]\n",
            "7 day output [[0.4037579]]\n",
            "8 day input [0.37632137 0.38327732 0.37140638 0.4139719  0.39913527 0.40174717\n",
            " 0.44435844 0.42426617 0.40262801 0.32720314 0.34349371 0.31040191\n",
            " 0.41962955 0.37751225 0.33701752 0.29595091 0.34788274 0.38949061\n",
            " 0.33944441 0.35100515 0.36225708 0.3825345  0.39374037 0.39896417\n",
            " 0.40494624 0.4208501  0.44026323 0.41808364 0.51622921 0.48902643\n",
            " 0.53330756 0.51882581 0.54955223 0.50695487 0.46677033 0.44510017\n",
            " 0.44098951 0.49174683 0.53632163 0.58191636 0.52360154 0.51284374\n",
            " 0.5223646  0.5131374  0.46361717 0.47332304 0.48607497 0.44216401\n",
            " 0.4142042  0.45576493 0.43908874 0.45211763 0.39489957 0.39607407\n",
            " 0.4273416  0.41581131 0.45131346 0.40593558 0.43817606 0.40598164\n",
            " 0.407728   0.42658457 0.41109817 0.38896464 0.37554888 0.38695537\n",
            " 0.4382232  0.48995333 0.423462   0.37987654 0.40015521 0.37788257\n",
            " 0.36377114 0.31437471 0.30745045 0.30788321 0.34312231 0.35159247\n",
            " 0.34930484 0.36259664 0.35137547 0.37302894 0.31916574 0.31992278\n",
            " 0.30720284 0.31823777 0.32282834 0.32332355 0.27989141 0.28669311\n",
            " 0.29303005 0.28902665 0.40455601 0.40198478 0.40023708 0.3993924\n",
            " 0.3994213  0.40023577 0.40172154 0.4037579 ]\n",
            "8 day output [[0.40622878]]\n",
            "9 day input [0.38327732 0.37140638 0.4139719  0.39913527 0.40174717 0.44435844\n",
            " 0.42426617 0.40262801 0.32720314 0.34349371 0.31040191 0.41962955\n",
            " 0.37751225 0.33701752 0.29595091 0.34788274 0.38949061 0.33944441\n",
            " 0.35100515 0.36225708 0.3825345  0.39374037 0.39896417 0.40494624\n",
            " 0.4208501  0.44026323 0.41808364 0.51622921 0.48902643 0.53330756\n",
            " 0.51882581 0.54955223 0.50695487 0.46677033 0.44510017 0.44098951\n",
            " 0.49174683 0.53632163 0.58191636 0.52360154 0.51284374 0.5223646\n",
            " 0.5131374  0.46361717 0.47332304 0.48607497 0.44216401 0.4142042\n",
            " 0.45576493 0.43908874 0.45211763 0.39489957 0.39607407 0.4273416\n",
            " 0.41581131 0.45131346 0.40593558 0.43817606 0.40598164 0.407728\n",
            " 0.42658457 0.41109817 0.38896464 0.37554888 0.38695537 0.4382232\n",
            " 0.48995333 0.423462   0.37987654 0.40015521 0.37788257 0.36377114\n",
            " 0.31437471 0.30745045 0.30788321 0.34312231 0.35159247 0.34930484\n",
            " 0.36259664 0.35137547 0.37302894 0.31916574 0.31992278 0.30720284\n",
            " 0.31823777 0.32282834 0.32332355 0.27989141 0.28669311 0.29303005\n",
            " 0.28902665 0.40455601 0.40198478 0.40023708 0.3993924  0.3994213\n",
            " 0.40023577 0.40172154 0.4037579  0.40622878]\n",
            "9 day output [[0.4090291]]\n",
            "10 day input [0.37140638 0.4139719  0.39913527 0.40174717 0.44435844 0.42426617\n",
            " 0.40262801 0.32720314 0.34349371 0.31040191 0.41962955 0.37751225\n",
            " 0.33701752 0.29595091 0.34788274 0.38949061 0.33944441 0.35100515\n",
            " 0.36225708 0.3825345  0.39374037 0.39896417 0.40494624 0.4208501\n",
            " 0.44026323 0.41808364 0.51622921 0.48902643 0.53330756 0.51882581\n",
            " 0.54955223 0.50695487 0.46677033 0.44510017 0.44098951 0.49174683\n",
            " 0.53632163 0.58191636 0.52360154 0.51284374 0.5223646  0.5131374\n",
            " 0.46361717 0.47332304 0.48607497 0.44216401 0.4142042  0.45576493\n",
            " 0.43908874 0.45211763 0.39489957 0.39607407 0.4273416  0.41581131\n",
            " 0.45131346 0.40593558 0.43817606 0.40598164 0.407728   0.42658457\n",
            " 0.41109817 0.38896464 0.37554888 0.38695537 0.4382232  0.48995333\n",
            " 0.423462   0.37987654 0.40015521 0.37788257 0.36377114 0.31437471\n",
            " 0.30745045 0.30788321 0.34312231 0.35159247 0.34930484 0.36259664\n",
            " 0.35137547 0.37302894 0.31916574 0.31992278 0.30720284 0.31823777\n",
            " 0.32282834 0.32332355 0.27989141 0.28669311 0.29303005 0.28902665\n",
            " 0.40455601 0.40198478 0.40023708 0.3993924  0.3994213  0.40023577\n",
            " 0.40172154 0.4037579  0.40622878 0.4090291 ]\n",
            "10 day output [[0.41206813]]\n",
            "11 day input [0.4139719  0.39913527 0.40174717 0.44435844 0.42426617 0.40262801\n",
            " 0.32720314 0.34349371 0.31040191 0.41962955 0.37751225 0.33701752\n",
            " 0.29595091 0.34788274 0.38949061 0.33944441 0.35100515 0.36225708\n",
            " 0.3825345  0.39374037 0.39896417 0.40494624 0.4208501  0.44026323\n",
            " 0.41808364 0.51622921 0.48902643 0.53330756 0.51882581 0.54955223\n",
            " 0.50695487 0.46677033 0.44510017 0.44098951 0.49174683 0.53632163\n",
            " 0.58191636 0.52360154 0.51284374 0.5223646  0.5131374  0.46361717\n",
            " 0.47332304 0.48607497 0.44216401 0.4142042  0.45576493 0.43908874\n",
            " 0.45211763 0.39489957 0.39607407 0.4273416  0.41581131 0.45131346\n",
            " 0.40593558 0.43817606 0.40598164 0.407728   0.42658457 0.41109817\n",
            " 0.38896464 0.37554888 0.38695537 0.4382232  0.48995333 0.423462\n",
            " 0.37987654 0.40015521 0.37788257 0.36377114 0.31437471 0.30745045\n",
            " 0.30788321 0.34312231 0.35159247 0.34930484 0.36259664 0.35137547\n",
            " 0.37302894 0.31916574 0.31992278 0.30720284 0.31823777 0.32282834\n",
            " 0.32332355 0.27989141 0.28669311 0.29303005 0.28902665 0.40455601\n",
            " 0.40198478 0.40023708 0.3993924  0.3994213  0.40023577 0.40172154\n",
            " 0.4037579  0.40622878 0.4090291  0.41206813]\n",
            "11 day output [[0.41526908]]\n",
            "12 day input [0.39913527 0.40174717 0.44435844 0.42426617 0.40262801 0.32720314\n",
            " 0.34349371 0.31040191 0.41962955 0.37751225 0.33701752 0.29595091\n",
            " 0.34788274 0.38949061 0.33944441 0.35100515 0.36225708 0.3825345\n",
            " 0.39374037 0.39896417 0.40494624 0.4208501  0.44026323 0.41808364\n",
            " 0.51622921 0.48902643 0.53330756 0.51882581 0.54955223 0.50695487\n",
            " 0.46677033 0.44510017 0.44098951 0.49174683 0.53632163 0.58191636\n",
            " 0.52360154 0.51284374 0.5223646  0.5131374  0.46361717 0.47332304\n",
            " 0.48607497 0.44216401 0.4142042  0.45576493 0.43908874 0.45211763\n",
            " 0.39489957 0.39607407 0.4273416  0.41581131 0.45131346 0.40593558\n",
            " 0.43817606 0.40598164 0.407728   0.42658457 0.41109817 0.38896464\n",
            " 0.37554888 0.38695537 0.4382232  0.48995333 0.423462   0.37987654\n",
            " 0.40015521 0.37788257 0.36377114 0.31437471 0.30745045 0.30788321\n",
            " 0.34312231 0.35159247 0.34930484 0.36259664 0.35137547 0.37302894\n",
            " 0.31916574 0.31992278 0.30720284 0.31823777 0.32282834 0.32332355\n",
            " 0.27989141 0.28669311 0.29303005 0.28902665 0.40455601 0.40198478\n",
            " 0.40023708 0.3993924  0.3994213  0.40023577 0.40172154 0.4037579\n",
            " 0.40622878 0.4090291  0.41206813 0.41526908]\n",
            "12 day output [[0.41856948]]\n",
            "13 day input [0.40174717 0.44435844 0.42426617 0.40262801 0.32720314 0.34349371\n",
            " 0.31040191 0.41962955 0.37751225 0.33701752 0.29595091 0.34788274\n",
            " 0.38949061 0.33944441 0.35100515 0.36225708 0.3825345  0.39374037\n",
            " 0.39896417 0.40494624 0.4208501  0.44026323 0.41808364 0.51622921\n",
            " 0.48902643 0.53330756 0.51882581 0.54955223 0.50695487 0.46677033\n",
            " 0.44510017 0.44098951 0.49174683 0.53632163 0.58191636 0.52360154\n",
            " 0.51284374 0.5223646  0.5131374  0.46361717 0.47332304 0.48607497\n",
            " 0.44216401 0.4142042  0.45576493 0.43908874 0.45211763 0.39489957\n",
            " 0.39607407 0.4273416  0.41581131 0.45131346 0.40593558 0.43817606\n",
            " 0.40598164 0.407728   0.42658457 0.41109817 0.38896464 0.37554888\n",
            " 0.38695537 0.4382232  0.48995333 0.423462   0.37987654 0.40015521\n",
            " 0.37788257 0.36377114 0.31437471 0.30745045 0.30788321 0.34312231\n",
            " 0.35159247 0.34930484 0.36259664 0.35137547 0.37302894 0.31916574\n",
            " 0.31992278 0.30720284 0.31823777 0.32282834 0.32332355 0.27989141\n",
            " 0.28669311 0.29303005 0.28902665 0.40455601 0.40198478 0.40023708\n",
            " 0.3993924  0.3994213  0.40023577 0.40172154 0.4037579  0.40622878\n",
            " 0.4090291  0.41206813 0.41526908 0.41856948]\n",
            "13 day output [[0.4219198]]\n",
            "14 day input [0.44435844 0.42426617 0.40262801 0.32720314 0.34349371 0.31040191\n",
            " 0.41962955 0.37751225 0.33701752 0.29595091 0.34788274 0.38949061\n",
            " 0.33944441 0.35100515 0.36225708 0.3825345  0.39374037 0.39896417\n",
            " 0.40494624 0.4208501  0.44026323 0.41808364 0.51622921 0.48902643\n",
            " 0.53330756 0.51882581 0.54955223 0.50695487 0.46677033 0.44510017\n",
            " 0.44098951 0.49174683 0.53632163 0.58191636 0.52360154 0.51284374\n",
            " 0.5223646  0.5131374  0.46361717 0.47332304 0.48607497 0.44216401\n",
            " 0.4142042  0.45576493 0.43908874 0.45211763 0.39489957 0.39607407\n",
            " 0.4273416  0.41581131 0.45131346 0.40593558 0.43817606 0.40598164\n",
            " 0.407728   0.42658457 0.41109817 0.38896464 0.37554888 0.38695537\n",
            " 0.4382232  0.48995333 0.423462   0.37987654 0.40015521 0.37788257\n",
            " 0.36377114 0.31437471 0.30745045 0.30788321 0.34312231 0.35159247\n",
            " 0.34930484 0.36259664 0.35137547 0.37302894 0.31916574 0.31992278\n",
            " 0.30720284 0.31823777 0.32282834 0.32332355 0.27989141 0.28669311\n",
            " 0.29303005 0.28902665 0.40455601 0.40198478 0.40023708 0.3993924\n",
            " 0.3994213  0.40023577 0.40172154 0.4037579  0.40622878 0.4090291\n",
            " 0.41206813 0.41526908 0.41856948 0.42191979]\n",
            "14 day output [[0.42528114]]\n",
            "15 day input [0.42426617 0.40262801 0.32720314 0.34349371 0.31040191 0.41962955\n",
            " 0.37751225 0.33701752 0.29595091 0.34788274 0.38949061 0.33944441\n",
            " 0.35100515 0.36225708 0.3825345  0.39374037 0.39896417 0.40494624\n",
            " 0.4208501  0.44026323 0.41808364 0.51622921 0.48902643 0.53330756\n",
            " 0.51882581 0.54955223 0.50695487 0.46677033 0.44510017 0.44098951\n",
            " 0.49174683 0.53632163 0.58191636 0.52360154 0.51284374 0.5223646\n",
            " 0.5131374  0.46361717 0.47332304 0.48607497 0.44216401 0.4142042\n",
            " 0.45576493 0.43908874 0.45211763 0.39489957 0.39607407 0.4273416\n",
            " 0.41581131 0.45131346 0.40593558 0.43817606 0.40598164 0.407728\n",
            " 0.42658457 0.41109817 0.38896464 0.37554888 0.38695537 0.4382232\n",
            " 0.48995333 0.423462   0.37987654 0.40015521 0.37788257 0.36377114\n",
            " 0.31437471 0.30745045 0.30788321 0.34312231 0.35159247 0.34930484\n",
            " 0.36259664 0.35137547 0.37302894 0.31916574 0.31992278 0.30720284\n",
            " 0.31823777 0.32282834 0.32332355 0.27989141 0.28669311 0.29303005\n",
            " 0.28902665 0.40455601 0.40198478 0.40023708 0.3993924  0.3994213\n",
            " 0.40023577 0.40172154 0.4037579  0.40622878 0.4090291  0.41206813\n",
            " 0.41526908 0.41856948 0.42191979 0.42528114]\n",
            "15 day output [[0.42862484]]\n",
            "16 day input [0.40262801 0.32720314 0.34349371 0.31040191 0.41962955 0.37751225\n",
            " 0.33701752 0.29595091 0.34788274 0.38949061 0.33944441 0.35100515\n",
            " 0.36225708 0.3825345  0.39374037 0.39896417 0.40494624 0.4208501\n",
            " 0.44026323 0.41808364 0.51622921 0.48902643 0.53330756 0.51882581\n",
            " 0.54955223 0.50695487 0.46677033 0.44510017 0.44098951 0.49174683\n",
            " 0.53632163 0.58191636 0.52360154 0.51284374 0.5223646  0.5131374\n",
            " 0.46361717 0.47332304 0.48607497 0.44216401 0.4142042  0.45576493\n",
            " 0.43908874 0.45211763 0.39489957 0.39607407 0.4273416  0.41581131\n",
            " 0.45131346 0.40593558 0.43817606 0.40598164 0.407728   0.42658457\n",
            " 0.41109817 0.38896464 0.37554888 0.38695537 0.4382232  0.48995333\n",
            " 0.423462   0.37987654 0.40015521 0.37788257 0.36377114 0.31437471\n",
            " 0.30745045 0.30788321 0.34312231 0.35159247 0.34930484 0.36259664\n",
            " 0.35137547 0.37302894 0.31916574 0.31992278 0.30720284 0.31823777\n",
            " 0.32282834 0.32332355 0.27989141 0.28669311 0.29303005 0.28902665\n",
            " 0.40455601 0.40198478 0.40023708 0.3993924  0.3994213  0.40023577\n",
            " 0.40172154 0.4037579  0.40622878 0.4090291  0.41206813 0.41526908\n",
            " 0.41856948 0.42191979 0.42528114 0.42862484]\n",
            "16 day output [[0.4319295]]\n",
            "17 day input [0.32720314 0.34349371 0.31040191 0.41962955 0.37751225 0.33701752\n",
            " 0.29595091 0.34788274 0.38949061 0.33944441 0.35100515 0.36225708\n",
            " 0.3825345  0.39374037 0.39896417 0.40494624 0.4208501  0.44026323\n",
            " 0.41808364 0.51622921 0.48902643 0.53330756 0.51882581 0.54955223\n",
            " 0.50695487 0.46677033 0.44510017 0.44098951 0.49174683 0.53632163\n",
            " 0.58191636 0.52360154 0.51284374 0.5223646  0.5131374  0.46361717\n",
            " 0.47332304 0.48607497 0.44216401 0.4142042  0.45576493 0.43908874\n",
            " 0.45211763 0.39489957 0.39607407 0.4273416  0.41581131 0.45131346\n",
            " 0.40593558 0.43817606 0.40598164 0.407728   0.42658457 0.41109817\n",
            " 0.38896464 0.37554888 0.38695537 0.4382232  0.48995333 0.423462\n",
            " 0.37987654 0.40015521 0.37788257 0.36377114 0.31437471 0.30745045\n",
            " 0.30788321 0.34312231 0.35159247 0.34930484 0.36259664 0.35137547\n",
            " 0.37302894 0.31916574 0.31992278 0.30720284 0.31823777 0.32282834\n",
            " 0.32332355 0.27989141 0.28669311 0.29303005 0.28902665 0.40455601\n",
            " 0.40198478 0.40023708 0.3993924  0.3994213  0.40023577 0.40172154\n",
            " 0.4037579  0.40622878 0.4090291  0.41206813 0.41526908 0.41856948\n",
            " 0.42191979 0.42528114 0.42862484 0.4319295 ]\n",
            "17 day output [[0.43518022]]\n",
            "18 day input [0.34349371 0.31040191 0.41962955 0.37751225 0.33701752 0.29595091\n",
            " 0.34788274 0.38949061 0.33944441 0.35100515 0.36225708 0.3825345\n",
            " 0.39374037 0.39896417 0.40494624 0.4208501  0.44026323 0.41808364\n",
            " 0.51622921 0.48902643 0.53330756 0.51882581 0.54955223 0.50695487\n",
            " 0.46677033 0.44510017 0.44098951 0.49174683 0.53632163 0.58191636\n",
            " 0.52360154 0.51284374 0.5223646  0.5131374  0.46361717 0.47332304\n",
            " 0.48607497 0.44216401 0.4142042  0.45576493 0.43908874 0.45211763\n",
            " 0.39489957 0.39607407 0.4273416  0.41581131 0.45131346 0.40593558\n",
            " 0.43817606 0.40598164 0.407728   0.42658457 0.41109817 0.38896464\n",
            " 0.37554888 0.38695537 0.4382232  0.48995333 0.423462   0.37987654\n",
            " 0.40015521 0.37788257 0.36377114 0.31437471 0.30745045 0.30788321\n",
            " 0.34312231 0.35159247 0.34930484 0.36259664 0.35137547 0.37302894\n",
            " 0.31916574 0.31992278 0.30720284 0.31823777 0.32282834 0.32332355\n",
            " 0.27989141 0.28669311 0.29303005 0.28902665 0.40455601 0.40198478\n",
            " 0.40023708 0.3993924  0.3994213  0.40023577 0.40172154 0.4037579\n",
            " 0.40622878 0.4090291  0.41206813 0.41526908 0.41856948 0.42191979\n",
            " 0.42528114 0.42862484 0.4319295  0.43518022]\n",
            "18 day output [[0.43836698]]\n",
            "19 day input [0.31040191 0.41962955 0.37751225 0.33701752 0.29595091 0.34788274\n",
            " 0.38949061 0.33944441 0.35100515 0.36225708 0.3825345  0.39374037\n",
            " 0.39896417 0.40494624 0.4208501  0.44026323 0.41808364 0.51622921\n",
            " 0.48902643 0.53330756 0.51882581 0.54955223 0.50695487 0.46677033\n",
            " 0.44510017 0.44098951 0.49174683 0.53632163 0.58191636 0.52360154\n",
            " 0.51284374 0.5223646  0.5131374  0.46361717 0.47332304 0.48607497\n",
            " 0.44216401 0.4142042  0.45576493 0.43908874 0.45211763 0.39489957\n",
            " 0.39607407 0.4273416  0.41581131 0.45131346 0.40593558 0.43817606\n",
            " 0.40598164 0.407728   0.42658457 0.41109817 0.38896464 0.37554888\n",
            " 0.38695537 0.4382232  0.48995333 0.423462   0.37987654 0.40015521\n",
            " 0.37788257 0.36377114 0.31437471 0.30745045 0.30788321 0.34312231\n",
            " 0.35159247 0.34930484 0.36259664 0.35137547 0.37302894 0.31916574\n",
            " 0.31992278 0.30720284 0.31823777 0.32282834 0.32332355 0.27989141\n",
            " 0.28669311 0.29303005 0.28902665 0.40455601 0.40198478 0.40023708\n",
            " 0.3993924  0.3994213  0.40023577 0.40172154 0.4037579  0.40622878\n",
            " 0.4090291  0.41206813 0.41526908 0.41856948 0.42191979 0.42528114\n",
            " 0.42862484 0.4319295  0.43518022 0.43836698]\n",
            "19 day output [[0.44148368]]\n",
            "20 day input [0.41962955 0.37751225 0.33701752 0.29595091 0.34788274 0.38949061\n",
            " 0.33944441 0.35100515 0.36225708 0.3825345  0.39374037 0.39896417\n",
            " 0.40494624 0.4208501  0.44026323 0.41808364 0.51622921 0.48902643\n",
            " 0.53330756 0.51882581 0.54955223 0.50695487 0.46677033 0.44510017\n",
            " 0.44098951 0.49174683 0.53632163 0.58191636 0.52360154 0.51284374\n",
            " 0.5223646  0.5131374  0.46361717 0.47332304 0.48607497 0.44216401\n",
            " 0.4142042  0.45576493 0.43908874 0.45211763 0.39489957 0.39607407\n",
            " 0.4273416  0.41581131 0.45131346 0.40593558 0.43817606 0.40598164\n",
            " 0.407728   0.42658457 0.41109817 0.38896464 0.37554888 0.38695537\n",
            " 0.4382232  0.48995333 0.423462   0.37987654 0.40015521 0.37788257\n",
            " 0.36377114 0.31437471 0.30745045 0.30788321 0.34312231 0.35159247\n",
            " 0.34930484 0.36259664 0.35137547 0.37302894 0.31916574 0.31992278\n",
            " 0.30720284 0.31823777 0.32282834 0.32332355 0.27989141 0.28669311\n",
            " 0.29303005 0.28902665 0.40455601 0.40198478 0.40023708 0.3993924\n",
            " 0.3994213  0.40023577 0.40172154 0.4037579  0.40622878 0.4090291\n",
            " 0.41206813 0.41526908 0.41856948 0.42191979 0.42528114 0.42862484\n",
            " 0.4319295  0.43518022 0.43836698 0.44148368]\n",
            "20 day output [[0.44452673]]\n",
            "21 day input [0.37751225 0.33701752 0.29595091 0.34788274 0.38949061 0.33944441\n",
            " 0.35100515 0.36225708 0.3825345  0.39374037 0.39896417 0.40494624\n",
            " 0.4208501  0.44026323 0.41808364 0.51622921 0.48902643 0.53330756\n",
            " 0.51882581 0.54955223 0.50695487 0.46677033 0.44510017 0.44098951\n",
            " 0.49174683 0.53632163 0.58191636 0.52360154 0.51284374 0.5223646\n",
            " 0.5131374  0.46361717 0.47332304 0.48607497 0.44216401 0.4142042\n",
            " 0.45576493 0.43908874 0.45211763 0.39489957 0.39607407 0.4273416\n",
            " 0.41581131 0.45131346 0.40593558 0.43817606 0.40598164 0.407728\n",
            " 0.42658457 0.41109817 0.38896464 0.37554888 0.38695537 0.4382232\n",
            " 0.48995333 0.423462   0.37987654 0.40015521 0.37788257 0.36377114\n",
            " 0.31437471 0.30745045 0.30788321 0.34312231 0.35159247 0.34930484\n",
            " 0.36259664 0.35137547 0.37302894 0.31916574 0.31992278 0.30720284\n",
            " 0.31823777 0.32282834 0.32332355 0.27989141 0.28669311 0.29303005\n",
            " 0.28902665 0.40455601 0.40198478 0.40023708 0.3993924  0.3994213\n",
            " 0.40023577 0.40172154 0.4037579  0.40622878 0.4090291  0.41206813\n",
            " 0.41526908 0.41856948 0.42191979 0.42528114 0.42862484 0.4319295\n",
            " 0.43518022 0.43836698 0.44148368 0.44452673]\n",
            "21 day output [[0.44749492]]\n",
            "22 day input [0.33701752 0.29595091 0.34788274 0.38949061 0.33944441 0.35100515\n",
            " 0.36225708 0.3825345  0.39374037 0.39896417 0.40494624 0.4208501\n",
            " 0.44026323 0.41808364 0.51622921 0.48902643 0.53330756 0.51882581\n",
            " 0.54955223 0.50695487 0.46677033 0.44510017 0.44098951 0.49174683\n",
            " 0.53632163 0.58191636 0.52360154 0.51284374 0.5223646  0.5131374\n",
            " 0.46361717 0.47332304 0.48607497 0.44216401 0.4142042  0.45576493\n",
            " 0.43908874 0.45211763 0.39489957 0.39607407 0.4273416  0.41581131\n",
            " 0.45131346 0.40593558 0.43817606 0.40598164 0.407728   0.42658457\n",
            " 0.41109817 0.38896464 0.37554888 0.38695537 0.4382232  0.48995333\n",
            " 0.423462   0.37987654 0.40015521 0.37788257 0.36377114 0.31437471\n",
            " 0.30745045 0.30788321 0.34312231 0.35159247 0.34930484 0.36259664\n",
            " 0.35137547 0.37302894 0.31916574 0.31992278 0.30720284 0.31823777\n",
            " 0.32282834 0.32332355 0.27989141 0.28669311 0.29303005 0.28902665\n",
            " 0.40455601 0.40198478 0.40023708 0.3993924  0.3994213  0.40023577\n",
            " 0.40172154 0.4037579  0.40622878 0.4090291  0.41206813 0.41526908\n",
            " 0.41856948 0.42191979 0.42528114 0.42862484 0.4319295  0.43518022\n",
            " 0.43836698 0.44148368 0.44452673 0.44749492]\n",
            "22 day output [[0.45038813]]\n",
            "23 day input [0.29595091 0.34788274 0.38949061 0.33944441 0.35100515 0.36225708\n",
            " 0.3825345  0.39374037 0.39896417 0.40494624 0.4208501  0.44026323\n",
            " 0.41808364 0.51622921 0.48902643 0.53330756 0.51882581 0.54955223\n",
            " 0.50695487 0.46677033 0.44510017 0.44098951 0.49174683 0.53632163\n",
            " 0.58191636 0.52360154 0.51284374 0.5223646  0.5131374  0.46361717\n",
            " 0.47332304 0.48607497 0.44216401 0.4142042  0.45576493 0.43908874\n",
            " 0.45211763 0.39489957 0.39607407 0.4273416  0.41581131 0.45131346\n",
            " 0.40593558 0.43817606 0.40598164 0.407728   0.42658457 0.41109817\n",
            " 0.38896464 0.37554888 0.38695537 0.4382232  0.48995333 0.423462\n",
            " 0.37987654 0.40015521 0.37788257 0.36377114 0.31437471 0.30745045\n",
            " 0.30788321 0.34312231 0.35159247 0.34930484 0.36259664 0.35137547\n",
            " 0.37302894 0.31916574 0.31992278 0.30720284 0.31823777 0.32282834\n",
            " 0.32332355 0.27989141 0.28669311 0.29303005 0.28902665 0.40455601\n",
            " 0.40198478 0.40023708 0.3993924  0.3994213  0.40023577 0.40172154\n",
            " 0.4037579  0.40622878 0.4090291  0.41206813 0.41526908 0.41856948\n",
            " 0.42191979 0.42528114 0.42862484 0.4319295  0.43518022 0.43836698\n",
            " 0.44148368 0.44452673 0.44749492 0.45038813]\n",
            "23 day output [[0.45320755]]\n",
            "24 day input [0.34788274 0.38949061 0.33944441 0.35100515 0.36225708 0.3825345\n",
            " 0.39374037 0.39896417 0.40494624 0.4208501  0.44026323 0.41808364\n",
            " 0.51622921 0.48902643 0.53330756 0.51882581 0.54955223 0.50695487\n",
            " 0.46677033 0.44510017 0.44098951 0.49174683 0.53632163 0.58191636\n",
            " 0.52360154 0.51284374 0.5223646  0.5131374  0.46361717 0.47332304\n",
            " 0.48607497 0.44216401 0.4142042  0.45576493 0.43908874 0.45211763\n",
            " 0.39489957 0.39607407 0.4273416  0.41581131 0.45131346 0.40593558\n",
            " 0.43817606 0.40598164 0.407728   0.42658457 0.41109817 0.38896464\n",
            " 0.37554888 0.38695537 0.4382232  0.48995333 0.423462   0.37987654\n",
            " 0.40015521 0.37788257 0.36377114 0.31437471 0.30745045 0.30788321\n",
            " 0.34312231 0.35159247 0.34930484 0.36259664 0.35137547 0.37302894\n",
            " 0.31916574 0.31992278 0.30720284 0.31823777 0.32282834 0.32332355\n",
            " 0.27989141 0.28669311 0.29303005 0.28902665 0.40455601 0.40198478\n",
            " 0.40023708 0.3993924  0.3994213  0.40023577 0.40172154 0.4037579\n",
            " 0.40622878 0.4090291  0.41206813 0.41526908 0.41856948 0.42191979\n",
            " 0.42528114 0.42862484 0.4319295  0.43518022 0.43836698 0.44148368\n",
            " 0.44452673 0.44749492 0.45038813 0.45320755]\n",
            "24 day output [[0.4559547]]\n",
            "25 day input [0.38949061 0.33944441 0.35100515 0.36225708 0.3825345  0.39374037\n",
            " 0.39896417 0.40494624 0.4208501  0.44026323 0.41808364 0.51622921\n",
            " 0.48902643 0.53330756 0.51882581 0.54955223 0.50695487 0.46677033\n",
            " 0.44510017 0.44098951 0.49174683 0.53632163 0.58191636 0.52360154\n",
            " 0.51284374 0.5223646  0.5131374  0.46361717 0.47332304 0.48607497\n",
            " 0.44216401 0.4142042  0.45576493 0.43908874 0.45211763 0.39489957\n",
            " 0.39607407 0.4273416  0.41581131 0.45131346 0.40593558 0.43817606\n",
            " 0.40598164 0.407728   0.42658457 0.41109817 0.38896464 0.37554888\n",
            " 0.38695537 0.4382232  0.48995333 0.423462   0.37987654 0.40015521\n",
            " 0.37788257 0.36377114 0.31437471 0.30745045 0.30788321 0.34312231\n",
            " 0.35159247 0.34930484 0.36259664 0.35137547 0.37302894 0.31916574\n",
            " 0.31992278 0.30720284 0.31823777 0.32282834 0.32332355 0.27989141\n",
            " 0.28669311 0.29303005 0.28902665 0.40455601 0.40198478 0.40023708\n",
            " 0.3993924  0.3994213  0.40023577 0.40172154 0.4037579  0.40622878\n",
            " 0.4090291  0.41206813 0.41526908 0.41856948 0.42191979 0.42528114\n",
            " 0.42862484 0.4319295  0.43518022 0.43836698 0.44148368 0.44452673\n",
            " 0.44749492 0.45038813 0.45320755 0.4559547 ]\n",
            "25 day output [[0.4586311]]\n",
            "26 day input [0.33944441 0.35100515 0.36225708 0.3825345  0.39374037 0.39896417\n",
            " 0.40494624 0.4208501  0.44026323 0.41808364 0.51622921 0.48902643\n",
            " 0.53330756 0.51882581 0.54955223 0.50695487 0.46677033 0.44510017\n",
            " 0.44098951 0.49174683 0.53632163 0.58191636 0.52360154 0.51284374\n",
            " 0.5223646  0.5131374  0.46361717 0.47332304 0.48607497 0.44216401\n",
            " 0.4142042  0.45576493 0.43908874 0.45211763 0.39489957 0.39607407\n",
            " 0.4273416  0.41581131 0.45131346 0.40593558 0.43817606 0.40598164\n",
            " 0.407728   0.42658457 0.41109817 0.38896464 0.37554888 0.38695537\n",
            " 0.4382232  0.48995333 0.423462   0.37987654 0.40015521 0.37788257\n",
            " 0.36377114 0.31437471 0.30745045 0.30788321 0.34312231 0.35159247\n",
            " 0.34930484 0.36259664 0.35137547 0.37302894 0.31916574 0.31992278\n",
            " 0.30720284 0.31823777 0.32282834 0.32332355 0.27989141 0.28669311\n",
            " 0.29303005 0.28902665 0.40455601 0.40198478 0.40023708 0.3993924\n",
            " 0.3994213  0.40023577 0.40172154 0.4037579  0.40622878 0.4090291\n",
            " 0.41206813 0.41526908 0.41856948 0.42191979 0.42528114 0.42862484\n",
            " 0.4319295  0.43518022 0.43836698 0.44148368 0.44452673 0.44749492\n",
            " 0.45038813 0.45320755 0.4559547  0.4586311 ]\n",
            "26 day output [[0.46123904]]\n",
            "27 day input [0.35100515 0.36225708 0.3825345  0.39374037 0.39896417 0.40494624\n",
            " 0.4208501  0.44026323 0.41808364 0.51622921 0.48902643 0.53330756\n",
            " 0.51882581 0.54955223 0.50695487 0.46677033 0.44510017 0.44098951\n",
            " 0.49174683 0.53632163 0.58191636 0.52360154 0.51284374 0.5223646\n",
            " 0.5131374  0.46361717 0.47332304 0.48607497 0.44216401 0.4142042\n",
            " 0.45576493 0.43908874 0.45211763 0.39489957 0.39607407 0.4273416\n",
            " 0.41581131 0.45131346 0.40593558 0.43817606 0.40598164 0.407728\n",
            " 0.42658457 0.41109817 0.38896464 0.37554888 0.38695537 0.4382232\n",
            " 0.48995333 0.423462   0.37987654 0.40015521 0.37788257 0.36377114\n",
            " 0.31437471 0.30745045 0.30788321 0.34312231 0.35159247 0.34930484\n",
            " 0.36259664 0.35137547 0.37302894 0.31916574 0.31992278 0.30720284\n",
            " 0.31823777 0.32282834 0.32332355 0.27989141 0.28669311 0.29303005\n",
            " 0.28902665 0.40455601 0.40198478 0.40023708 0.3993924  0.3994213\n",
            " 0.40023577 0.40172154 0.4037579  0.40622878 0.4090291  0.41206813\n",
            " 0.41526908 0.41856948 0.42191979 0.42528114 0.42862484 0.4319295\n",
            " 0.43518022 0.43836698 0.44148368 0.44452673 0.44749492 0.45038813\n",
            " 0.45320755 0.4559547  0.4586311  0.46123904]\n",
            "27 day output [[0.46378043]]\n",
            "28 day input [0.36225708 0.3825345  0.39374037 0.39896417 0.40494624 0.4208501\n",
            " 0.44026323 0.41808364 0.51622921 0.48902643 0.53330756 0.51882581\n",
            " 0.54955223 0.50695487 0.46677033 0.44510017 0.44098951 0.49174683\n",
            " 0.53632163 0.58191636 0.52360154 0.51284374 0.5223646  0.5131374\n",
            " 0.46361717 0.47332304 0.48607497 0.44216401 0.4142042  0.45576493\n",
            " 0.43908874 0.45211763 0.39489957 0.39607407 0.4273416  0.41581131\n",
            " 0.45131346 0.40593558 0.43817606 0.40598164 0.407728   0.42658457\n",
            " 0.41109817 0.38896464 0.37554888 0.38695537 0.4382232  0.48995333\n",
            " 0.423462   0.37987654 0.40015521 0.37788257 0.36377114 0.31437471\n",
            " 0.30745045 0.30788321 0.34312231 0.35159247 0.34930484 0.36259664\n",
            " 0.35137547 0.37302894 0.31916574 0.31992278 0.30720284 0.31823777\n",
            " 0.32282834 0.32332355 0.27989141 0.28669311 0.29303005 0.28902665\n",
            " 0.40455601 0.40198478 0.40023708 0.3993924  0.3994213  0.40023577\n",
            " 0.40172154 0.4037579  0.40622878 0.4090291  0.41206813 0.41526908\n",
            " 0.41856948 0.42191979 0.42528114 0.42862484 0.4319295  0.43518022\n",
            " 0.43836698 0.44148368 0.44452673 0.44749492 0.45038813 0.45320755\n",
            " 0.4559547  0.4586311  0.46123904 0.46378043]\n",
            "28 day output [[0.46625715]]\n",
            "29 day input [0.3825345  0.39374037 0.39896417 0.40494624 0.4208501  0.44026323\n",
            " 0.41808364 0.51622921 0.48902643 0.53330756 0.51882581 0.54955223\n",
            " 0.50695487 0.46677033 0.44510017 0.44098951 0.49174683 0.53632163\n",
            " 0.58191636 0.52360154 0.51284374 0.5223646  0.5131374  0.46361717\n",
            " 0.47332304 0.48607497 0.44216401 0.4142042  0.45576493 0.43908874\n",
            " 0.45211763 0.39489957 0.39607407 0.4273416  0.41581131 0.45131346\n",
            " 0.40593558 0.43817606 0.40598164 0.407728   0.42658457 0.41109817\n",
            " 0.38896464 0.37554888 0.38695537 0.4382232  0.48995333 0.423462\n",
            " 0.37987654 0.40015521 0.37788257 0.36377114 0.31437471 0.30745045\n",
            " 0.30788321 0.34312231 0.35159247 0.34930484 0.36259664 0.35137547\n",
            " 0.37302894 0.31916574 0.31992278 0.30720284 0.31823777 0.32282834\n",
            " 0.32332355 0.27989141 0.28669311 0.29303005 0.28902665 0.40455601\n",
            " 0.40198478 0.40023708 0.3993924  0.3994213  0.40023577 0.40172154\n",
            " 0.4037579  0.40622878 0.4090291  0.41206813 0.41526908 0.41856948\n",
            " 0.42191979 0.42528114 0.42862484 0.4319295  0.43518022 0.43836698\n",
            " 0.44148368 0.44452673 0.44749492 0.45038813 0.45320755 0.4559547\n",
            " 0.4586311  0.46123904 0.46378043 0.46625715]\n",
            "29 day output [[0.46867102]]\n",
            "[[0.404556006193161], [0.4019847810268402], [0.4002370834350586], [0.39939239621162415], [0.3994213044643402], [0.40023577213287354], [0.4017215371131897], [0.40375789999961853], [0.40622878074645996], [0.409029096364975], [0.41206812858581543], [0.41526907682418823], [0.4185694754123688], [0.4219197928905487], [0.4252811372280121], [0.42862483859062195], [0.43192949891090393], [0.4351802170276642], [0.43836697936058044], [0.44148367643356323], [0.444526731967926], [0.4474949240684509], [0.4503881335258484], [0.4532075524330139], [0.4559547007083893], [0.45863109827041626], [0.4612390398979187], [0.4637804329395294], [0.46625715494155884], [0.4686710238456726]]\n"
          ]
        }
      ],
      "source": [
        "from numpy import array\n",
        "\n",
        "lst_output=[]\n",
        "n_steps=100\n",
        "i=0\n",
        "while(i<30):\n",
        "\n",
        "    if(len(temp_input)>100):\n",
        "        #print(temp_input)\n",
        "        x_input=np.array(temp_input[1:])\n",
        "        print(\"{} day input {}\".format(i,x_input))\n",
        "        x_input=x_input.reshape(1,-1)\n",
        "        x_input = x_input.reshape((1, n_steps, 1))\n",
        "        #print(x_input)\n",
        "        yhat = model.predict(x_input, verbose=0)\n",
        "        print(\"{} day output {}\".format(i,yhat))\n",
        "        temp_input.extend(yhat[0].tolist())\n",
        "        temp_input=temp_input[1:]\n",
        "        #print(temp_input)\n",
        "        lst_output.extend(yhat.tolist())\n",
        "        i=i+1\n",
        "    else:\n",
        "        x_input = x_input.reshape((1, n_steps,1))\n",
        "        yhat = model.predict(x_input, verbose=0)\n",
        "        print(yhat[0])\n",
        "        temp_input.extend(yhat[0].tolist())\n",
        "        print(len(temp_input))\n",
        "        lst_output.extend(yhat.tolist())\n",
        "        i=i+1\n",
        "\n",
        "\n",
        "print(lst_output)\n"
      ]
    },
    {
      "cell_type": "markdown",
      "metadata": {
        "id": "SzkFH6NPLou6"
      },
      "source": [
        "### lets predict for next 30 days"
      ]
    },
    {
      "cell_type": "code",
      "execution_count": null,
      "metadata": {
        "id": "IZfxZ5eSOHwG"
      },
      "outputs": [],
      "source": [
        "day_new=np.arange(1,101)\n",
        "day_pred=np.arange(101,131)"
      ]
    },
    {
      "cell_type": "code",
      "source": [
        "len(df1)"
      ],
      "metadata": {
        "colab": {
          "base_uri": "https://localhost:8080/"
        },
        "id": "rAgp4AO0fCcr",
        "outputId": "a162b51c-5ff9-48f3-d588-4a100616b4b4"
      },
      "execution_count": null,
      "outputs": [
        {
          "output_type": "execute_result",
          "data": {
            "text/plain": [
              "262"
            ]
          },
          "metadata": {},
          "execution_count": 48
        }
      ]
    },
    {
      "cell_type": "code",
      "source": [
        "plt.plot(day_new,scaler.inverse_transform(df1[162:]))\n",
        "plt.plot(day_pred,scaler.inverse_transform(lst_output))"
      ],
      "metadata": {
        "colab": {
          "base_uri": "https://localhost:8080/",
          "height": 447
        },
        "id": "U2BqFPC3puAq",
        "outputId": "ece4b860-0d4a-4cb4-cef5-41d3c3add8cd"
      },
      "execution_count": null,
      "outputs": [
        {
          "output_type": "execute_result",
          "data": {
            "text/plain": [
              "[<matplotlib.lines.Line2D at 0x7bb3db55a1a0>]"
            ]
          },
          "metadata": {},
          "execution_count": 50
        },
        {
          "output_type": "display_data",
          "data": {
            "text/plain": [
              "<Figure size 640x480 with 1 Axes>"
            ],
            "image/png": "[encoded data removed]"
          },
          "metadata": {}
        }
      ]
    },
    {
      "cell_type": "code",
      "source": [
        "df3=df1.tolist()\n",
        "df3.extend(lst_output)\n",
        "plt.plot(df3[200:])"
      ],
      "metadata": {
        "colab": {
          "base_uri": "https://localhost:8080/",
          "height": 447
        },
        "id": "GNqw0PkmpuD_",
        "outputId": "45ff5413-5673-4fb3-f27e-9f81833bbdc6"
      },
      "execution_count": null,
      "outputs": [
        {
          "output_type": "execute_result",
          "data": {
            "text/plain": [
              "[<matplotlib.lines.Line2D at 0x7bb3e03bc970>]"
            ]
          },
          "metadata": {},
          "execution_count": 52
        },
        {
          "output_type": "display_data",
          "data": {
            "text/plain": [
              "<Figure size 640x480 with 1 Axes>"
            ],
            "image/png": "[encoded data removed]"
          },
          "metadata": {}
        }
      ]
    },
    {
      "cell_type": "code",
      "source": [],
      "metadata": {
        "id": "wVWAseNKqBbV"
      },
      "execution_count": null,
      "outputs": []
    }
  ],
  "metadata": {
    "colab": {
      "provenance": []
    },
    "kernelspec": {
      "display_name": "Python 3",
      "name": "python3"
    },
    "language_info": {
      "name": "python"
    }
  },
  "nbformat": 4,
  "nbformat_minor": 0
}